{
 "cells": [
  {
   "cell_type": "code",
   "execution_count": 2,
   "metadata": {},
   "outputs": [
    {
     "data": {
      "text/plain": [
       "98"
      ]
     },
     "execution_count": 2,
     "metadata": {},
     "output_type": "execute_result"
    }
   ],
   "source": [
    "ord(\"a\")\n",
    "ord(\"b\")"
   ]
  },
  {
   "cell_type": "code",
   "execution_count": 1,
   "metadata": {},
   "outputs": [
    {
     "name": "stdout",
     "output_type": "stream",
     "text": [
      "LLRDDR\n",
      "0 -2\n"
     ]
    }
   ],
   "source": [
    "# Maze\n",
    "#Ankit is in maze. The command center sent him a string which decodes to come out from the maze.\n",
    "#He is initially at (0, 0). String contains L, R, U, D denoting left, right, up and down.\n",
    "#In each command he will traverse 1 unit distance in the respective direction.\n",
    "\n",
    "## HACKEREARTH PROBLEM\n",
    "\n",
    "#For example if he is at (2, 0) and the command is L he will go to (1, 0).\n",
    "\n",
    "#Input:Input contains a single string.\n",
    "\n",
    "#Output:Print the final point where he came out.\n",
    "\n",
    "#Constraints: 1 ≤ |S| ≤ 200\n",
    "\n",
    "#SAMPLE INPUT : LLRDDR\n",
    "#SAMPLE OUTPUT :0 -2\n",
    "\n",
    "s= input()\n",
    "def maze(s):\n",
    "    x = 0\n",
    "    y = 0\n",
    "    for i in s:\n",
    "        if i =='L':\n",
    "            x=x-1\n",
    "        if i =='R':        #   DONE ON 22-06-2019\n",
    "            x=x+1\n",
    "        if i == \"U\":\n",
    "            y=y+1\n",
    "        if i == 'D':\n",
    "            y=y-1\n",
    "    print(x, y)\n",
    "    \n",
    "maze(s)\n"
   ]
  },
  {
   "cell_type": "code",
   "execution_count": 3,
   "metadata": {},
   "outputs": [
    {
     "name": "stdout",
     "output_type": "stream",
     "text": [
      "5\n",
      "*   *\n",
      "*   *\n",
      "*****\n",
      "*   *\n",
      "*   *\n",
      "*****\n",
      "*   *\n",
      "*   *\n",
      "*****\n",
      "*   *\n",
      "*   *\n",
      "*****\n",
      "*   *\n",
      "*   *\n",
      "*****\n",
      "*   *\n",
      "*   *\n"
     ]
    }
   ],
   "source": [
    "# Ladder query\n",
    "#Aditya is fond of ladders. Everyday he goes through pictures of ladders online but unfortunately \n",
    "#today he ran out of ladder pictures online. \n",
    "#Write a program to print “ladder with N steps”, \n",
    "#which he can use to get his daily dose of ladder love.\n",
    "\n",
    "#INPUT: Input contains integer N, the number of steps in the ladder\n",
    "#OUTPUT: Print the ladder with the gap between two side rails being 3 spaces(“   “).\n",
    "#Check the sample output for format of printing the ladder.\n",
    "#CONSTRAINTS: 1<=N<=40\n",
    "#SAMPLE INPUT : 4\n",
    "#SAMPLE OUTPUT: \n",
    "                #*   *\n",
    "                #*   *\n",
    "                #*****\n",
    "                #*   *\n",
    "                #*   *\n",
    "                #*****\n",
    "                #*   *\n",
    "                #*   *\n",
    "                #*****\n",
    "                #*   *\n",
    "                #*   *\n",
    "                #*****\n",
    "                #*   *\n",
    "                #*   *\n",
    "                \n",
    "n = int(input())\n",
    "def ladder(n):\n",
    "    for i in range(n):\n",
    "        print(\"*   *\")\n",
    "        print(\"*   *\")\n",
    "        print(\"*****\")\n",
    "    print(\"*   *\")\n",
    "    print(\"*   *\")\n",
    "    return\n",
    "ladder(n)"
   ]
  },
  {
   "cell_type": "code",
   "execution_count": 10,
   "metadata": {},
   "outputs": [
    {
     "name": "stdout",
     "output_type": "stream",
     "text": [
      "2\n",
      "3\n",
      "A\n",
      "5\n",
      "A\n"
     ]
    }
   ],
   "source": [
    "# Lift Queries\n",
    "\n",
    "#There are 7 floors in BH3 and only 2 lifts.\n",
    "#Initially Lift A is at the ground floor and Lift B at the top floor.\n",
    "#Whenever someone calls the lift from N th floor, the lift closest to that floor comes to pick him up.\n",
    "#If both the lifts are at equidistant from the N th floor, them the lift from the lower floor comes up.\n",
    "\n",
    "#INPUT: First line contains a integer T denoting the number of test cases.\n",
    "#Next T lines contains a single integer N denoting the floor from which lift is called.\n",
    "\n",
    "#OUTPUT\n",
    "#Output T lines containing one character \"A\" if the first lift goes to N th floor or \"B\" for the second lift.\n",
    "#CONTRAINTS: 0 <= N <= 7\n",
    "#1 <= T <= 100000\n",
    "#SAMPLE INPUT :2 3 5\n",
    "#SAMPLE OUTPUT: A A\n",
    "#Explanation:\n",
    "#3rd floor calls, Lift A(0) goes there.\n",
    "#5th  floor calls, Lift A(3) and Lift B(7) are equidistant from 5, so Lift from lowest floor goes there i.e. A.\n",
    "\n",
    "def calltolift(n):\n",
    "    a=0   #lift a position 0\n",
    "    b=7   #lift b position 7\n",
    "    for i in range(n):  # for loop repeatation need to give a range\n",
    "        m=int(input())  # m is a person calls to lift which is int of input\n",
    "        c=abs(a-m)      #c assigns to a position where the lift a goes to the person m\n",
    "        d=abs(b-m)      #d assigns to a position where the lift b goes to the person m\n",
    "        if c<=d:        # so Lift from lowest floor goes there i.e. A. see Explin!\n",
    "            print(\"A\")\n",
    "            a=m         # lift a = man m\n",
    "        else:\n",
    "            print(\"B\")\n",
    "            b=m         # lift b = man m\n",
    "    return\n",
    "n= int(input())\n",
    "calltolift(n)\n",
    "\n"
   ]
  },
  {
   "cell_type": "code",
   "execution_count": null,
   "metadata": {},
   "outputs": [],
   "source": [
    "\n"
   ]
  },
  {
   "cell_type": "code",
   "execution_count": null,
   "metadata": {},
   "outputs": [],
   "source": []
  },
  {
   "cell_type": "code",
   "execution_count": null,
   "metadata": {},
   "outputs": [],
   "source": []
  },
  {
   "cell_type": "code",
   "execution_count": null,
   "metadata": {},
   "outputs": [],
   "source": []
  }
 ],
 "metadata": {
  "kernelspec": {
   "display_name": "Python 3",
   "language": "python",
   "name": "python3"
  },
  "language_info": {
   "codemirror_mode": {
    "name": "ipython",
    "version": 3
   },
   "file_extension": ".py",
   "mimetype": "text/x-python",
   "name": "python",
   "nbconvert_exporter": "python",
   "pygments_lexer": "ipython3",
   "version": "3.7.3"
  }
 },
 "nbformat": 4,
 "nbformat_minor": 2
}
