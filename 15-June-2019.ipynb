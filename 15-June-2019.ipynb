{
 "cells": [
  {
   "cell_type": "markdown",
   "metadata": {},
   "source": [
    "### Problem-ClosestZero\n",
    "\n",
    "you have been given an integer array A of size N. You need to print\n",
    "there are multipule elemenets , print the number lesser value\n",
    "\n",
    "** Input Format**\n",
    "The first line contains a single integer N denoting the size of array A\n",
    "The next line contins N space seperated  integers denoting the elements\n",
    "\n",
    "** Explanatin **\n",
    " - li = [3,2, -1, -2, -3]  (original list) -> -1 is closest to zero\n",
    " - sort the data\n",
    " - li = [-3, -2, -1, 2, 3]  (sorted list)\n",
    " - pl = [1,2,2,3,3,] (positive sorted list)\n",
    " - pl[0]   -> check if this number is +ve or -ve in the original list\n",
    " - if pl[0] in li:\n",
    "     -return pl[0]\n",
    " - else \n",
    "     - return -pl[0]"
   ]
  },
  {
   "cell_type": "code",
   "execution_count": 18,
   "metadata": {},
   "outputs": [
    {
     "name": "stdout",
     "output_type": "stream",
     "text": [
      "-1\n"
     ]
    }
   ],
   "source": [
    "li = [-1, -2, 2, 3, 1]\n",
    "li.sort()\n",
    "pl = []\n",
    "for i in li:\n",
    "    pl.append(abs(i))\n",
    "\n",
    "pl.sort()\n",
    "\n",
    "if pl[0] in li:\n",
    "    print(-pl[0])\n",
    "else:\n",
    "    print(-pl[-1])"
   ]
  },
  {
   "cell_type": "code",
   "execution_count": 17,
   "metadata": {},
   "outputs": [
    {
     "ename": "NameError",
     "evalue": "name 'FarthestFromZero' is not defined",
     "output_type": "error",
     "traceback": [
      "\u001b[1;31m---------------------------------------------------------------------------\u001b[0m",
      "\u001b[1;31mNameError\u001b[0m                                 Traceback (most recent call last)",
      "\u001b[1;32m<ipython-input-17-79b0456d1043>\u001b[0m in \u001b[0;36m<module>\u001b[1;34m\u001b[0m\n\u001b[1;32m----> 1\u001b[1;33m \u001b[0mFarthestFromZero\u001b[0m\u001b[1;33m\u001b[0m\u001b[1;33m\u001b[0m\u001b[0m\n\u001b[0m\u001b[0;32m      2\u001b[0m \u001b[0mli\u001b[0m \u001b[1;33m=\u001b[0m \u001b[1;33m[\u001b[0m\u001b[1;33m-\u001b[0m\u001b[1;36m1\u001b[0m\u001b[1;33m,\u001b[0m \u001b[1;33m-\u001b[0m\u001b[1;36m2\u001b[0m\u001b[1;33m,\u001b[0m \u001b[1;36m1\u001b[0m\u001b[1;33m,\u001b[0m \u001b[1;33m-\u001b[0m\u001b[1;36m10\u001b[0m\u001b[1;33m,\u001b[0m \u001b[1;36m9\u001b[0m\u001b[1;33m]\u001b[0m\u001b[1;33m\u001b[0m\u001b[1;33m\u001b[0m\u001b[0m\n\u001b[0;32m      3\u001b[0m \u001b[1;33m-\u001b[0m\u001b[1;36m10\u001b[0m\u001b[1;33m\u001b[0m\u001b[1;33m\u001b[0m\u001b[0m\n",
      "\u001b[1;31mNameError\u001b[0m: name 'FarthestFromZero' is not defined"
     ]
    }
   ],
   "source": [
    " FarthestFromZero\n",
    "li = [-1, -2, 1, -10, 9]\n",
    "-"
   ]
  },
  {
   "cell_type": "markdown",
   "metadata": {},
   "source": [
    "### Problem 3\n",
    "\n",
    "you are given 3 numbers, a, b, c.\n",
    "write a program to find the largest number which is less than or equal to c and leaves remainder b when divided by a\n"
   ]
  },
  {
   "cell_type": "code",
   "execution_count": 26,
   "metadata": {},
   "outputs": [
    {
     "data": {
      "text/plain": [
       "98"
      ]
     },
     "execution_count": 26,
     "metadata": {},
     "output_type": "execute_result"
    }
   ],
   "source": [
    "def cal(a, b, c):\n",
    "    for i in range(c, a-1, -1):\n",
    "        if i  % a == b:\n",
    "            return i\n",
    "    return -1\n",
    "    \n",
    "cal(3, 2, 100)"
   ]
  },
  {
   "cell_type": "code",
   "execution_count": null,
   "metadata": {},
   "outputs": [],
   "source": []
  },
  {
   "cell_type": "code",
   "execution_count": null,
   "metadata": {},
   "outputs": [],
   "source": []
  },
  {
   "cell_type": "markdown",
   "metadata": {},
   "source": [
    "## hackerearth problems around  9 Tasks\n"
   ]
  },
  {
   "cell_type": "code",
   "execution_count": 45,
   "metadata": {},
   "outputs": [
    {
     "name": "stdout",
     "output_type": "stream",
     "text": [
      "1 10 1\n",
      "10\n"
     ]
    }
   ],
   "source": [
    "#1) #You have been given 3 integers - l, r and k. \n",
    "#Find how many numbers between l and r (both inclusive) are divisible by k. \n",
    "#You do not need to print these numbers, you just have to find their count.\n",
    "\n",
    "\n",
    "def countDivisor(i, j, k):\n",
    "    count=0\n",
    "    for a in range(i,j+1):\n",
    "        if a%k==0:\n",
    "            count+=1\n",
    "    print(count)\n",
    "    return\n",
    "s=input()\n",
    "s=s.split()\n",
    "i=int(s[0])\n",
    "j=int(s[1])\n",
    "k=int(s[2])\n",
    "countDivisor(i, j, k)"
   ]
  },
  {
   "cell_type": "code",
   "execution_count": 48,
   "metadata": {},
   "outputs": [
    {
     "name": "stdout",
     "output_type": "stream",
     "text": [
      "5\n",
      "120\n"
     ]
    }
   ],
   "source": [
    "#You have been given a positive integer N. \n",
    "#You need to find and print the Factorial of this number. \n",
    "#The Factorial of a positive integer N refers to the product of all number in the range from 1 to N. \n",
    "\n",
    "n = int(input())\n",
    "def factorial(n):\n",
    "    fact = 1\n",
    "    for i in range(1,n+1):\n",
    "        fact=fact*i\n",
    "    print(fact)\n",
    "    return\n",
    "factorial(n)\n",
    "    \n",
    "\n"
   ]
  },
  {
   "cell_type": "code",
   "execution_count": null,
   "metadata": {},
   "outputs": [],
   "source": [
    " - 3rd Task for practice \n",
    "#You have been given a String S consisting of uppercase and lowercase English alphabets. \n",
    "#You need to change the case of each alphabet in this String. \n",
    "#That is, all the uppercase letters should be converted to lowercase and all the lowercase letters \n",
    "#should be converted to uppercase. \n",
    "#You need to then print the resultant String to output.\n",
    "\n",
    "def a(n):\n",
    "    for i in n:\n",
    "        if i==i.upper():\n",
    "            a=i.lower()\n",
    "        elif i==i.lower():\n",
    "            a=i.upper()\n",
    "        print(a,end=\"\")    \n",
    "              \n",
    "n=input()\n",
    "a(n)"
   ]
  },
  {
   "cell_type": "code",
   "execution_count": 49,
   "metadata": {},
   "outputs": [
    {
     "name": "stdout",
     "output_type": "stream",
     "text": [
      "racecar\n",
      "YES\n"
     ]
    }
   ],
   "source": [
    " - 4th Task\n",
    "#You have been given a String S. You need to find and print whether this string is a palindrome or not. \n",
    "#If yes, print \"YES\" (without quotes), else print \"NO\" (without quotes)\n",
    "\n",
    "def palindrome(s):\n",
    "    if s == s[::-1]:\n",
    "        print(\"YES\")\n",
    "    else:\n",
    "        print(\"NO\")\n",
    "s = input()    \n",
    "palindrome(s)"
   ]
  },
  {
   "cell_type": "code",
   "execution_count": null,
   "metadata": {},
   "outputs": [],
   "source": [
    "#You are given an integer N. You need to print the series of all prime numbers till N.\n",
    "\n",
    "def primenumber(n):\n",
    "    for i in range(n,n+1):\n",
    "        if i%\n"
   ]
  },
  {
   "cell_type": "code",
   "execution_count": 78,
   "metadata": {},
   "outputs": [
    {
     "ename": "TypeError",
     "evalue": "primenumber() missing 1 required positional argument: 'n'",
     "output_type": "error",
     "traceback": [
      "\u001b[1;31m---------------------------------------------------------------------------\u001b[0m",
      "\u001b[1;31mTypeError\u001b[0m                                 Traceback (most recent call last)",
      "\u001b[1;32m<ipython-input-78-b4758211fb2c>\u001b[0m in \u001b[0;36m<module>\u001b[1;34m\u001b[0m\n\u001b[0;32m     11\u001b[0m                         \u001b[0mprint\u001b[0m\u001b[1;33m(\u001b[0m\u001b[0mi\u001b[0m\u001b[1;33m)\u001b[0m\u001b[1;33m\u001b[0m\u001b[1;33m\u001b[0m\u001b[0m\n\u001b[0;32m     12\u001b[0m \u001b[1;33m\u001b[0m\u001b[0m\n\u001b[1;32m---> 13\u001b[1;33m \u001b[0mprimenumber\u001b[0m\u001b[1;33m(\u001b[0m\u001b[1;33m)\u001b[0m\u001b[1;33m\u001b[0m\u001b[1;33m\u001b[0m\u001b[0m\n\u001b[0m",
      "\u001b[1;31mTypeError\u001b[0m: primenumber() missing 1 required positional argument: 'n'"
     ]
    }
   ],
   "source": [
    "# If num is divisible by any number   \n",
    "   # between 2 and val, it is not prime \n",
    "\n",
    "def primenumber(n):\n",
    "    for i in range(1, n+1):\n",
    "        if n > 1:\n",
    "            for a in range(2, i):             # wrong\n",
    "                if (a % n) == 0:\n",
    "                    break\n",
    "                else:\n",
    "                        print(i) \n",
    "            \n",
    "primenumber()"
   ]
  },
  {
   "cell_type": "code",
   "execution_count": null,
   "metadata": {},
   "outputs": [],
   "source": [
    "def primenumber(n):\n",
    "    fo\n"
   ]
  },
  {
   "cell_type": "code",
   "execution_count": null,
   "metadata": {},
   "outputs": [],
   "source": []
  }
 ],
 "metadata": {
  "kernelspec": {
   "display_name": "Python 3",
   "language": "python",
   "name": "python3"
  },
  "language_info": {
   "codemirror_mode": {
    "name": "ipython",
    "version": 3
   },
   "file_extension": ".py",
   "mimetype": "text/x-python",
   "name": "python",
   "nbconvert_exporter": "python",
   "pygments_lexer": "ipython3",
   "version": "3.7.3"
  }
 },
 "nbformat": 4,
 "nbformat_minor": 2
}
