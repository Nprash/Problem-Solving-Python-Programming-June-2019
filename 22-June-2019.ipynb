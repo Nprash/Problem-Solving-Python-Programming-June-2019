{
 "cells": [
  {
   "cell_type": "markdown",
   "metadata": {},
   "source": [
    "### date :22-June-2019\n",
    "## Day Objectives\n",
    " - File Handling\n",
    "      - Basic File Data Processing\n",
    "          - Accessing and Modifying File Data\n",
    "      - Character Count\n",
    "      - Line Count\n",
    "      - File Size\n",
    "      - Word Count\n",
    "      - Unique Word Count\n",
    "      "
   ]
  },
  {
   "cell_type": "code",
   "execution_count": 6,
   "metadata": {},
   "outputs": [
    {
     "name": "stdout",
     "output_type": "stream",
     "text": [
      "newdata---\n",
      "Line1\n",
      "Line2\n",
      "Line3\n",
      "Line4\n",
      "Line5\n",
      "Line6\n",
      "Line7\n",
      "Line8\n",
      "Line9\n",
      "Line10\n",
      "\n"
     ]
    }
   ],
   "source": [
    "# Read a File - Fileshould exist(Read Mode)\n",
    "# Write into a file - Existing(append) or New File(Write Mode)\n",
    "#\n",
    "\n",
    "def readfile(filepath):\n",
    "    with open(filepath, 'r') as f:\n",
    "        #print(type(f))\n",
    "        filedata = f.read()  # rEADS  file data into a string\n",
    "    return filedata\n",
    "filepath = 'Data Files/Data.txt'\n",
    "readfile(filepath)\n",
    "print(readfile(filepath))"
   ]
  },
  {
   "cell_type": "code",
   "execution_count": 31,
   "metadata": {},
   "outputs": [
    {
     "name": "stdout",
     "output_type": "stream",
     "text": [
      "(writeFile)\n"
     ]
    }
   ],
   "source": [
    "# write a file should be exists\n",
    "def writeFile(filename,filedata):\n",
    "    with open(filename,'a') as f:\n",
    "        f.write(filedata)\n",
    "    return\n",
    "filename = 'Data Files/data.txt'\n",
    "writeFile(filename,\"Raise and Awake dear there is no more time proceed with whatever you had\")\n",
    "print(\"()\")"
   ]
  },
  {
   "cell_type": "code",
   "execution_count": 1,
   "metadata": {},
   "outputs": [
    {
     "data": {
      "text/plain": [
       "['newdata---',\n",
       " 'Line1',\n",
       " 'Line2',\n",
       " 'Line3',\n",
       " 'Line4',\n",
       " 'Line5',\n",
       " 'Line6',\n",
       " 'Line7',\n",
       " 'Line8',\n",
       " 'Line9',\n",
       " 'Line10',\n",
       " '']"
      ]
     },
     "execution_count": 1,
     "metadata": {},
     "output_type": "execute_result"
    }
   ],
   "source": [
    "#Function to read a file into a list of lines\n",
    "#Each element in the list is one line in the file\n",
    "\n",
    "def readfileintolist(filepath):\n",
    "    with open(filepath, 'r') as f:\n",
    "        filedata=f.read()\n",
    "        lines=filedata.split('\\n')\n",
    "        #lines=[]\n",
    "        #for line in f:\n",
    "        #lines.append(line)\n",
    "    return lines\n",
    "filepath='Data Files/data.txt'\n",
    "readfileintolist(filepath)"
   ]
  },
  {
   "cell_type": "code",
   "execution_count": 7,
   "metadata": {},
   "outputs": [
    {
     "data": {
      "text/plain": [
       "17"
      ]
     },
     "execution_count": 7,
     "metadata": {},
     "output_type": "execute_result"
    }
   ],
   "source": [
    "#Function to count the number of characters in a file\n",
    "def charcountfile(filepath):\n",
    "    count=len(\"(filepath).read()\")\n",
    "    return count\n",
    "charcountfile(filepath)"
   ]
  },
  {
   "cell_type": "code",
   "execution_count": 24,
   "metadata": {},
   "outputs": [
    {
     "name": "stdout",
     "output_type": "stream",
     "text": [
      "countlines:\n"
     ]
    }
   ],
   "source": [
    "#Function to count the number of lines in a file\n",
    "def countlinesfile(filepath):\n",
    "    with open(filepath,'r') as f:\n",
    "        countlines=0\n",
    "        for lines in f:\n",
    "            countlines=countlines+1\n",
    "        print(\"countlines:\")\n",
    "    return\n",
    "countlinesfile(filepath)\n",
    "        \n"
   ]
  },
  {
   "cell_type": "code",
   "execution_count": 15,
   "metadata": {},
   "outputs": [
    {
     "data": {
      "text/plain": [
       "1"
      ]
     },
     "execution_count": 15,
     "metadata": {},
     "output_type": "execute_result"
    }
   ],
   "source": [
    "# Function to count the number of words in a file\n",
    "import re\n",
    "def wordcountfile(filepath):\n",
    "    pattern='[ \\n]'\n",
    "    filedata='filepath.read()'\n",
    "    count=len(re.split(pattern, filedata))\n",
    "    return count\n",
    "wordcountfile(filepath)"
   ]
  },
  {
   "cell_type": "code",
   "execution_count": null,
   "metadata": {},
   "outputs": [],
   "source": []
  },
  {
   "cell_type": "code",
   "execution_count": 11,
   "metadata": {},
   "outputs": [
    {
     "data": {
      "text/plain": [
       "3"
      ]
     },
     "execution_count": 11,
     "metadata": {},
     "output_type": "execute_result"
    }
   ],
   "source": [
    "# Function to get unique dtd\n",
    "#\n",
    "\n",
    "def uniquedata(li):\n",
    "    #create an empty unique list\n",
    "    unique=[]\n",
    "    #for every element in the main list ,\n",
    "    #check if exists in the unique list.\n",
    "    #if doesnot exists ,add it to unique list.\n",
    "    #else if it already exists ,move on to the\n",
    "    for element in li:\n",
    "        if element not in unique:\n",
    "            unique.append(element)\n",
    "    return unique\n",
    "li=[1,2,3,3,2,1]    \n",
    "uniquedata(li)\n",
    "len(uniquedata(li))"
   ]
  },
  {
   "cell_type": "code",
   "execution_count": 41,
   "metadata": {},
   "outputs": [
    {
     "ename": "SyntaxError",
     "evalue": "invalid syntax (<ipython-input-41-c6527df7d204>, line 23)",
     "output_type": "error",
     "traceback": [
      "\u001b[1;36m  File \u001b[1;32m\"<ipython-input-41-c6527df7d204>\"\u001b[1;36m, line \u001b[1;32m23\u001b[0m\n\u001b[1;33m    countuniquewords(filepath)\u001b[0m\n\u001b[1;37m                   ^\u001b[0m\n\u001b[1;31mSyntaxError\u001b[0m\u001b[1;31m:\u001b[0m invalid syntax\n"
     ]
    }
   ],
   "source": [
    "#Function to count unique words in a file\n",
    "\n",
    "def countuniquewords(filepath):\n",
    "    count=0\n",
    "    with open(filename,'r') as f:\n",
    "        filedata=f.read().split()\n",
    "        ds = {}\n",
    "        ls = []\n",
    "        print(\"Word\",\":\", \"count\")\n",
    "        print(\"-----------------\")\n",
    "        for i in range(0,len(filedata)):\n",
    "            count=0\n",
    "            temp = []\n",
    "            if filedata[i] in filedata:\n",
    "                for j in range(0,len(filedata)):\n",
    "                    if(filedata[i]==filedata[j]):\n",
    "                        count +=1\n",
    "                        temp.append(filedata[i])\n",
    "            ds[filedata[i]] = temp\n",
    "        for key in ds:\n",
    "            print(key,\" \",len(ds[key])\n",
    "        \n",
    "countuniquewords(filepath)"
   ]
  },
  {
   "cell_type": "code",
   "execution_count": 16,
   "metadata": {},
   "outputs": [],
   "source": [
    "# Function to print the frequency count of repeat words in a file\n",
    "#frequency distribution\n",
    "#Data in line 1\n",
    "#Data in line 2\n",
    "#Data in line 3\n",
    "#o/p\n",
    "#Data:3\n",
    "#in:3\n",
    "#line:3\n",
    "#1:1\n",
    "#2:1\n",
    "#3:1\n"
   ]
  },
  {
   "cell_type": "code",
   "execution_count": null,
   "metadata": {},
   "outputs": [],
   "source": [
    "# contact applications\n",
    "#Find and replace application"
   ]
  },
  {
   "cell_type": "code",
   "execution_count": null,
   "metadata": {},
   "outputs": [],
   "source": []
  },
  {
   "cell_type": "code",
   "execution_count": null,
   "metadata": {},
   "outputs": [],
   "source": []
  },
  {
   "cell_type": "code",
   "execution_count": null,
   "metadata": {},
   "outputs": [],
   "source": []
  },
  {
   "cell_type": "code",
   "execution_count": null,
   "metadata": {},
   "outputs": [],
   "source": []
  },
  {
   "cell_type": "code",
   "execution_count": null,
   "metadata": {},
   "outputs": [],
   "source": []
  },
  {
   "cell_type": "code",
   "execution_count": null,
   "metadata": {},
   "outputs": [],
   "source": []
  },
  {
   "cell_type": "code",
   "execution_count": null,
   "metadata": {},
   "outputs": [],
   "source": []
  },
  {
   "cell_type": "code",
   "execution_count": null,
   "metadata": {},
   "outputs": [],
   "source": []
  },
  {
   "cell_type": "code",
   "execution_count": null,
   "metadata": {},
   "outputs": [],
   "source": []
  },
  {
   "cell_type": "code",
   "execution_count": null,
   "metadata": {},
   "outputs": [],
   "source": []
  }
 ],
 "metadata": {
  "kernelspec": {
   "display_name": "Python 3",
   "language": "python",
   "name": "python3"
  },
  "language_info": {
   "codemirror_mode": {
    "name": "ipython",
    "version": 3
   },
   "file_extension": ".py",
   "mimetype": "text/x-python",
   "name": "python",
   "nbconvert_exporter": "python",
   "pygments_lexer": "ipython3",
   "version": "3.7.3"
  }
 },
 "nbformat": 4,
 "nbformat_minor": 2
}
