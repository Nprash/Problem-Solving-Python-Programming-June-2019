{
 "cells": [
  {
   "cell_type": "markdown",
   "metadata": {},
   "source": [
    "### date :22-June-2019\n",
    "## Day Objectives\n",
    " - File Handling\n",
    "      - Basic File Data Processing\n",
    "          - Accessing and Modifying File Data\n",
    "      - Character Count\n",
    "      - Line Count\n",
    "      - File Size\n",
    "      - Word Count\n",
    "      - Unique Word Count\n",
    "      "
   ]
  },
  {
   "cell_type": "code",
   "execution_count": 6,
   "metadata": {},
   "outputs": [
    {
     "name": "stdout",
     "output_type": "stream",
     "text": [
      "newdata---\n",
      "Line1\n",
      "Line2\n",
      "Line3\n",
      "Line4\n",
      "Line5\n",
      "Line6\n",
      "Line7\n",
      "Line8\n",
      "Line9\n",
      "Line10\n",
      "\n"
     ]
    }
   ],
   "source": [
    "# Read a File - Fileshould exist(Read Mode)\n",
    "# Write into a file - Existing(append) or New File(Write Mode)\n",
    "#\n",
    "\n",
    "def readfile(filepath):\n",
    "    with open(filepath, 'r') as f:\n",
    "        #print(type(f))\n",
    "        filedata = f.read()\n",
    "    return filedata\n",
    "filepath = 'Data Files/Data.txt'\n",
    "readfile(filepath)\n",
    "print(readfile(filepath))"
   ]
  },
  {
   "cell_type": "code",
   "execution_count": null,
   "metadata": {},
   "outputs": [],
   "source": []
  },
  {
   "cell_type": "code",
   "execution_count": null,
   "metadata": {},
   "outputs": [],
   "source": []
  },
  {
   "cell_type": "code",
   "execution_count": null,
   "metadata": {},
   "outputs": [],
   "source": []
  },
  {
   "cell_type": "code",
   "execution_count": null,
   "metadata": {},
   "outputs": [],
   "source": []
  },
  {
   "cell_type": "code",
   "execution_count": null,
   "metadata": {},
   "outputs": [],
   "source": []
  },
  {
   "cell_type": "code",
   "execution_count": null,
   "metadata": {},
   "outputs": [],
   "source": []
  },
  {
   "cell_type": "code",
   "execution_count": null,
   "metadata": {},
   "outputs": [],
   "source": []
  },
  {
   "cell_type": "code",
   "execution_count": null,
   "metadata": {},
   "outputs": [],
   "source": []
  }
 ],
 "metadata": {
  "kernelspec": {
   "display_name": "Python 3",
   "language": "python",
   "name": "python3"
  },
  "language_info": {
   "codemirror_mode": {
    "name": "ipython",
    "version": 3
   },
   "file_extension": ".py",
   "mimetype": "text/x-python",
   "name": "python",
   "nbconvert_exporter": "python",
   "pygments_lexer": "ipython3",
   "version": "3.7.3"
  }
 },
 "nbformat": 4,
 "nbformat_minor": 2
}
