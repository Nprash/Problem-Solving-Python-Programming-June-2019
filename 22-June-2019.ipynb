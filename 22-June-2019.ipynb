{
 "cells": [
  {
   "cell_type": "markdown",
   "metadata": {},
   "source": [
    "### date :22-June-2019\n",
    "## Day Objectives\n",
    " - File Handling\n",
    "      - Basic File Data Processing\n",
    "          - Accessing and Modifying File Data\n",
    "      - Character Count\n",
    "      - Line Count\n",
    "      - File Size\n",
    "      - Word Count\n",
    "      - Unique Word Count\n",
    "      "
   ]
  },
  {
   "cell_type": "code",
   "execution_count": 17,
   "metadata": {},
   "outputs": [
    {
     "name": "stdout",
     "output_type": "stream",
     "text": [
      "newdata---\n",
      "Line1\n",
      "Line2\n",
      "Line3\n",
      "Line4\n",
      "Line5\n",
      "Line6\n",
      "Line7\n",
      "Line8\n",
      "Line9\n",
      "Line10\n",
      "Raise and Awake dear there is no more time proceed with whatever you hadRaise and Awake dear there is no more time proceed with whatever you hadRaise and Awake dear there is no more time proceed with whatever you hadRaise and Awake dear there is no more time proceed with whatever you had\n"
     ]
    }
   ],
   "source": [
    "# Read a File - Fileshould exist(Read Mode)\n",
    "# Write into a file - Existing(append) or New File(Write Mode)\n",
    "#\n",
    "\n",
    "def readfile(filepath):\n",
    "    with open(filepath, 'r') as f:\n",
    "        #print(type(f))\n",
    "        filedata = f.read()  # rEADS  file data into a string\n",
    "    return filedata\n",
    "filepath = 'Data Files/Data.txt'\n",
    "readfile(filepath)\n",
    "print(readfile(filepath))"
   ]
  },
  {
   "cell_type": "code",
   "execution_count": 12,
   "metadata": {},
   "outputs": [
    {
     "name": "stdout",
     "output_type": "stream",
     "text": [
      "()\n"
     ]
    }
   ],
   "source": [
    "# write a file should be exists\n",
    "def writeFile(filename,filedata):\n",
    "    with open(filename,'a') as f:\n",
    "        f.write(filedata)\n",
    "    return\n",
    "filename = 'Data Files/data.txt'\n",
    "writeFile(filename,\"Raise and Awake dear there is no more time proceed with whatever you had\")\n",
    "print(\"()\")"
   ]
  },
  {
   "cell_type": "code",
   "execution_count": 2,
   "metadata": {},
   "outputs": [
    {
     "data": {
      "text/plain": [
       "['newdata---',\n",
       " 'Line1',\n",
       " 'Line2',\n",
       " 'Line3',\n",
       " 'Line4',\n",
       " 'Line5',\n",
       " 'Line6',\n",
       " 'Line7',\n",
       " 'Line8',\n",
       " 'Line9',\n",
       " 'Line10',\n",
       " 'Raise and Awake dear there is no more time proceed with whatever you hadRaise and Awake dear there is no more time proceed with whatever you hadRaise and Awake dear there is no more time proceed with whatever you hadRaise and Awake dear there is no more time proceed with whatever you had']"
      ]
     },
     "execution_count": 2,
     "metadata": {},
     "output_type": "execute_result"
    }
   ],
   "source": [
    "#Function to read a file into a list of lines\n",
    "#Each element in the list is one line in the file\n",
    "\n",
    "def readfileintolist(filepath):\n",
    "    with open(filepath, 'r') as f:\n",
    "        filedata=f.read()\n",
    "        lines=filedata.split('\\n')\n",
    "        #lines=[]\n",
    "        #for line in f:\n",
    "        #lines.append(line)\n",
    "    return lines\n",
    "filepath='Data Files/data.txt'\n",
    "readfileintolist(filepath)"
   ]
  },
  {
   "cell_type": "code",
   "execution_count": 10,
   "metadata": {},
   "outputs": [
    {
     "name": "stdout",
     "output_type": "stream",
     "text": [
      "360\n"
     ]
    }
   ],
   "source": [
    "#Function to count the number of characters in a file\n",
    "def charcountfile(filepath):\n",
    "    with open(filepath, \"r\") as f:\n",
    "        print(len(f.read()))\n",
    "    return \n",
    "charcountfile(filepath)"
   ]
  },
  {
   "cell_type": "code",
   "execution_count": 6,
   "metadata": {},
   "outputs": [
    {
     "name": "stdout",
     "output_type": "stream",
     "text": [
      "12\n"
     ]
    }
   ],
   "source": [
    "#Function to count the number of lines in a file\n",
    "def countlinesfile(filepath):\n",
    "    with open(filepath,'r') as f:\n",
    "        count=len(f.readlines())\n",
    "    print(count)\n",
    "    return\n",
    "countlinesfile(filepath)\n",
    "        \n"
   ]
  },
  {
   "cell_type": "code",
   "execution_count": 7,
   "metadata": {},
   "outputs": [
    {
     "data": {
      "text/plain": [
       "['filepath.read()']"
      ]
     },
     "execution_count": 7,
     "metadata": {},
     "output_type": "execute_result"
    }
   ],
   "source": [
    "# Function to count the number of words in a file\n",
    "import re\n",
    "def wordcountfile(filepath):\n",
    "    pattern='[ \\n]'\n",
    "    filedata='filepath.read()'\n",
    "    count=len(re.split(pattern, filedata))\n",
    "    return count\n",
    "\n",
    "#filepath='Data Files/data.txt'\n",
    "def wordsfromfile(filepath):\n",
    "    pattern='[ \\n]'\n",
    "    filedata='filepath.read()'\n",
    "    allwordslist=re.split(pattern, filedata)\n",
    "    return allwordslist\n",
    "wordsfromfile(filepath)"
   ]
  },
  {
   "cell_type": "code",
   "execution_count": 12,
   "metadata": {},
   "outputs": [
    {
     "name": "stdout",
     "output_type": "stream",
     "text": [
      "64\n"
     ]
    }
   ],
   "source": [
    "# Function to count the number of words in a file\n",
    "def wordcount(filepath):\n",
    "    with open(filepath, 'r') as f:\n",
    "        a=f.read().split()\n",
    "        print(len(a))\n",
    "wordcount(filepath)"
   ]
  },
  {
   "cell_type": "code",
   "execution_count": null,
   "metadata": {},
   "outputs": [],
   "source": []
  },
  {
   "cell_type": "code",
   "execution_count": 16,
   "metadata": {},
   "outputs": [
    {
     "data": {
      "text/plain": [
       "3"
      ]
     },
     "execution_count": 16,
     "metadata": {},
     "output_type": "execute_result"
    }
   ],
   "source": [
    "# Function to get unique dtd\n",
    "#\n",
    "\n",
    "def uniquedata(li):\n",
    "    #create an empty unique list\n",
    "    unique=[]\n",
    "    #for every element in the main list ,\n",
    "    #check if exists in the unique list.\n",
    "    #if doesnot exists ,add it to unique list.\n",
    "    #else if it already exists ,move on to the\n",
    "    for element in li:\n",
    "        if element not in unique:\n",
    "            unique.append(element)\n",
    "    return unique\n",
    "li=[1,2,3,3,2,1]    \n",
    "uniquedata(li)\n",
    "len(uniquedata(li))"
   ]
  },
  {
   "cell_type": "code",
   "execution_count": 41,
   "metadata": {},
   "outputs": [
    {
     "ename": "SyntaxError",
     "evalue": "invalid syntax (<ipython-input-41-c6527df7d204>, line 23)",
     "output_type": "error",
     "traceback": [
      "\u001b[1;36m  File \u001b[1;32m\"<ipython-input-41-c6527df7d204>\"\u001b[1;36m, line \u001b[1;32m23\u001b[0m\n\u001b[1;33m    countuniquewords(filepath)\u001b[0m\n\u001b[1;37m                   ^\u001b[0m\n\u001b[1;31mSyntaxError\u001b[0m\u001b[1;31m:\u001b[0m invalid syntax\n"
     ]
    }
   ],
   "source": [
    "#Function to count unique words in a file\n",
    "\n",
    "def countuniquewords(filepath):\n",
    "    count=0\n",
    "    with open(filename,'r') as f:\n",
    "        filedata=f.read().split()\n",
    "        ds = {}\n",
    "        ls = []\n",
    "        print(\"Word\",\":\", \"count\")\n",
    "        print(\"-----------------\")\n",
    "        for i in range(0,len(filedata)):\n",
    "            count=0\n",
    "            temp = []\n",
    "            if filedata[i] in filedata:\n",
    "                for j in range(0,len(filedata)):\n",
    "                    if(filedata[i]==filedata[j]):\n",
    "                        count +=1\n",
    "                        temp.append(filedata[i])\n",
    "            ds[filedata[i]] = temp\n",
    "        for key in ds:\n",
    "            print(key,\" \",len(ds[key])\n",
    "        \n",
    "countuniquewords(filepath)"
   ]
  },
  {
   "cell_type": "code",
   "execution_count": 15,
   "metadata": {},
   "outputs": [
    {
     "ename": "NameError",
     "evalue": "name 'uniquewords' is not defined",
     "output_type": "error",
     "traceback": [
      "\u001b[1;31m---------------------------------------------------------------------------\u001b[0m",
      "\u001b[1;31mNameError\u001b[0m                                 Traceback (most recent call last)",
      "\u001b[1;32m<ipython-input-15-f584dcb53e01>\u001b[0m in \u001b[0;36m<module>\u001b[1;34m\u001b[0m\n\u001b[0;32m     24\u001b[0m     \u001b[0muniquewords\u001b[0m\u001b[1;33m=\u001b[0m \u001b[0muniquedata\u001b[0m\u001b[1;33m(\u001b[0m\u001b[0mfilepath\u001b[0m\u001b[1;33m)\u001b[0m\u001b[1;33m\u001b[0m\u001b[1;33m\u001b[0m\u001b[0m\n\u001b[0;32m     25\u001b[0m \u001b[1;33m\u001b[0m\u001b[0m\n\u001b[1;32m---> 26\u001b[1;33m \u001b[1;32mfor\u001b[0m \u001b[0mword\u001b[0m \u001b[1;32min\u001b[0m \u001b[0muniquewords\u001b[0m\u001b[1;33m:\u001b[0m\u001b[1;33m\u001b[0m\u001b[1;33m\u001b[0m\u001b[0m\n\u001b[0m\u001b[0;32m     27\u001b[0m     \u001b[0mcount\u001b[0m\u001b[1;33m=\u001b[0m \u001b[0mallwords\u001b[0m\u001b[1;33m.\u001b[0m\u001b[0mcount\u001b[0m\u001b[1;33m(\u001b[0m\u001b[0mword\u001b[0m\u001b[1;33m)\u001b[0m\u001b[1;33m\u001b[0m\u001b[1;33m\u001b[0m\u001b[0m\n\u001b[0;32m     28\u001b[0m     \u001b[0mprint\u001b[0m\u001b[1;33m(\u001b[0m\u001b[0mword\u001b[0m\u001b[1;33m,\u001b[0m\u001b[1;34m':'\u001b[0m\u001b[1;33m,\u001b[0m\u001b[0mcount\u001b[0m\u001b[1;33m)\u001b[0m\u001b[1;33m\u001b[0m\u001b[1;33m\u001b[0m\u001b[0m\n",
      "\u001b[1;31mNameError\u001b[0m: name 'uniquewords' is not defined"
     ]
    }
   ],
   "source": [
    "# Function to print the frequency count of repeat words in a file\n",
    "#frequency distribution\n",
    "#Data in line 1\n",
    "#Data in line 2\n",
    "#Data in line 3\n",
    "#o/p\n",
    "#Data:3\n",
    "#in:3\n",
    "#line:3\n",
    "#1:1\n",
    "#2:1\n",
    "#3:1\n",
    "\n",
    "def frequencydistributionofwords(filepath):\n",
    "    # Dictionary to be used\n",
    "    #Keys -> Unique words\n",
    "    # values ->count of unique words\n",
    "# Two list\n",
    "#Allwords lists-\n",
    "# Unique words list-\n",
    "\n",
    "#set\n",
    "    allwords= wordsfromfile(filepath)\n",
    "    uniquewords= uniquedata(filepath)\n",
    "\n",
    "for word in uniquewords:\n",
    "    count= allwords.count(word)\n",
    "    print(word,':',count)\n",
    "    \n",
    "return\n",
    "frequencydistributionofwords(filepath)"
   ]
  },
  {
   "cell_type": "code",
   "execution_count": null,
   "metadata": {},
   "outputs": [],
   "source": [
    "# contact applications\n",
    "# Add,Search,List,Modify,Delete contacts\n",
    "\n",
    "\n",
    "\n",
    "#Find and replace application\n",
    "# count the total number of occurances of a word\n",
    "#if word is existing\n",
    "#Replace all occurances of word with another word\n",
    "\n",
    "\n",
    "\n",
    "#Marks analysis Applications\n",
    "#Generate Maeks file-for n students\n",
    "#input: Marks text file- each line in text file contains marks of one student\n",
    "#Generates  a report with the following information\n",
    "    #class average\n",
    "    # % of students passed\n",
    "    #% of  failed students\n",
    "    #  %of students with distinction\n",
    "    \n"
   ]
  },
  {
   "cell_type": "code",
   "execution_count": 21,
   "metadata": {},
   "outputs": [
    {
     "data": {
      "text/plain": [
       "{'filepath.read()': 1}"
      ]
     },
     "execution_count": 21,
     "metadata": {},
     "output_type": "execute_result"
    }
   ],
   "source": [
    "def frequencydistributionofwords2(filepath):\n",
    "    allwords= wordsfromfile(filepath)\n",
    "    wordfrequency={}\n",
    "    \n",
    "    for word in allwords:\n",
    "        if word not in wordfrequency.keys():\n",
    "            wordfrequency[word]=1\n",
    "        else:\n",
    "            wordfrequency[word]+=1\n",
    "    return wordfrequency\n",
    "frequencydistributionofwords2(filepath)    "
   ]
  },
  {
   "cell_type": "code",
   "execution_count": null,
   "metadata": {},
   "outputs": [],
   "source": []
  },
  {
   "cell_type": "code",
   "execution_count": null,
   "metadata": {},
   "outputs": [],
   "source": []
  },
  {
   "cell_type": "code",
   "execution_count": null,
   "metadata": {},
   "outputs": [],
   "source": [
    "# contact applications\n",
    "# Add,Search,List,Modify,Delete contacts\n",
    "\n",
    "\n",
    "#Find and replace application\n",
    "#2)# count the total number of occurances of a word in a file\n",
    " - countwordoccurences(filepath, word)\n",
    "- \n",
    "#1)# if word is existing\n",
    " - wordexists(filepath, word)\n",
    "\n",
    "3)#Replace all occurances of word with another word in a file\n",
    "#replaceword(filepath, word)\n",
    "\n",
    "\n",
    "#Marks analysis Applications\n",
    "#Generate Maeks file-for n students\n",
    "#input: Marks text file- each line in text file contains marks of one student\n",
    "#Generates  a report with the following information\n",
    "    #class average\n",
    "    # % of students passed\n",
    "    #% of  failed students\n",
    "    #  %of students with distinction\n",
    "    #Highest marks Frequency\n",
    "    #lowest marks Frequency\n",
    "    \n",
    "### Marks analysis report\n",
    " #Generate marks\n",
    " #   generatemarks(n, lb, ub)\n",
    "#    - Generate the report of the following\n",
    "        -class average - classaverage(filepath)\n",
    "        -# % of students passed--passpercentage(filepath)\n",
    "    #% of  failed students---failpercentage(filepath)\n",
    "    #  %of students with distinction--->distinctionpercentage(filepath)\n",
    "    #Highest marks Frequency-->frequencyhighest(filepath)\n",
    "    #lowest marks Frequency-->frequencylowest(filepath)\n",
    "    #generatereport(filepath)\n",
    "    \n",
    "    \n",
    "    \n",
    "    \n",
    "    ### Contact application\n",
    "    - addcontact(name, phone,email)\n",
    "    - searchcontacts(name)\n",
    "    - listcontacts()\n",
    "    - editcontact(name,newphone,newemail)\n",
    "    - deletecontact(name)\n",
    "    - contactsApp()\n",
    "  "
   ]
  },
  {
   "cell_type": "code",
   "execution_count": 27,
   "metadata": {},
   "outputs": [],
   "source": [
    "#Function to Generate Marks Data for n students\n",
    "\n",
    "from random import randint\n",
    "\n",
    "def generateMarks(n, lb, ub):\n",
    "    with open('Data Files/marks.txt', 'w') as f:\n",
    "        for i in range(0, n):\n",
    "            r=randint(lb, ub)\n",
    "            f.write(str(r) + '\\n')\n",
    "    return\n",
    "    \n",
    "generateMarks(1000, 0, 100)\n",
    "    \n",
    "    "
   ]
  },
  {
   "cell_type": "code",
   "execution_count": null,
   "metadata": {},
   "outputs": [],
   "source": []
  },
  {
   "cell_type": "code",
   "execution_count": null,
   "metadata": {},
   "outputs": [],
   "source": []
  },
  {
   "cell_type": "code",
   "execution_count": null,
   "metadata": {},
   "outputs": [],
   "source": []
  },
  {
   "cell_type": "code",
   "execution_count": null,
   "metadata": {},
   "outputs": [],
   "source": []
  },
  {
   "cell_type": "code",
   "execution_count": null,
   "metadata": {},
   "outputs": [],
   "source": []
  }
 ],
 "metadata": {
  "kernelspec": {
   "display_name": "Python 3",
   "language": "python",
   "name": "python3"
  },
  "language_info": {
   "codemirror_mode": {
    "name": "ipython",
    "version": 3
   },
   "file_extension": ".py",
   "mimetype": "text/x-python",
   "name": "python",
   "nbconvert_exporter": "python",
   "pygments_lexer": "ipython3",
   "version": "3.7.3"
  }
 },
 "nbformat": 4,
 "nbformat_minor": 2
}
