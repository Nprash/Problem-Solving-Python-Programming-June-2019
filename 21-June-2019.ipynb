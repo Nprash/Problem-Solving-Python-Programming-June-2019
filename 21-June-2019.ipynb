{
 "cells": [
  {
   "cell_type": "code",
   "execution_count": 35,
   "metadata": {},
   "outputs": [
    {
     "ename": "SyntaxError",
     "evalue": "invalid syntax (<ipython-input-35-d72110e35242>, line 17)",
     "output_type": "error",
     "traceback": [
      "\u001b[1;36m  File \u001b[1;32m\"<ipython-input-35-d72110e35242>\"\u001b[1;36m, line \u001b[1;32m17\u001b[0m\n\u001b[1;33m    else:\u001b[0m\n\u001b[1;37m       ^\u001b[0m\n\u001b[1;31mSyntaxError\u001b[0m\u001b[1;31m:\u001b[0m invalid syntax\n"
     ]
    }
   ],
   "source": [
    "# Function to add contact to contacts text files\n",
    "\n",
    "from packages import validators  # packages folder is different location\n",
    "\n",
    "def addContact(name, phone, email):\n",
    "    # store data as name,phone,email in the contacts file\n",
    "    filename = 'Data Files/contacts.txt'    # Data Files/contacts.txt'  is folder is different location and file to read dtata\n",
    "    if not checkcontactexists(name):\n",
    "        if phonenumbervalidator(phone):\n",
    "            with open(filename, 'a') as f:\n",
    "                line= 'name' + ',' + str(phone) + ',' + email + '\\n'    #\\n for new line adding into it\n",
    "                f.write(line)\n",
    "        print(name, 'added to contacts')\n",
    "    else:\n",
    "        print('not valid phone number or email')\n",
    "        return\n",
    "    else:\n",
    "        print(name, 'already exists')\n",
    "        return\n",
    "#addContact(\"jersy\", 9989567856, 'jersy@gmail.com')\n",
    "\n",
    "# Function to check if contact already exists\n",
    "import re\n",
    "def checkcontactexists(name):\n",
    "    filename= 'Data Files/contacts.txt'\n",
    "    with open(filename, 'r') as f:\n",
    "        filedata= f.read()\n",
    "    return re.search(name, filedata)    \n",
    "if checkcontactexists(\"name1\"):\n",
    "    print(True)\n",
    "else:\n",
    "    print(False)\n",
    "    \n"
   ]
  },
  {
   "cell_type": "code",
   "execution_count": null,
   "metadata": {},
   "outputs": [],
   "source": []
  },
  {
   "cell_type": "code",
   "execution_count": 52,
   "metadata": {},
   "outputs": [
    {
     "data": {
      "text/plain": [
       "<function __main__.listtofile(li)>"
      ]
     },
     "execution_count": 52,
     "metadata": {},
     "output_type": "execute_result"
    }
   ],
   "source": [
    "filename = 'Data Files/contacts.txt'\n",
    "def contactslists(contacts):\n",
    "    li=[]\n",
    "    with open(filename, 'r') as f:\n",
    "        for line in f:\n",
    "            li.append(line.split(','))\n",
    "    return li\n",
    "#contactslists(filename)    \n",
    "def listtofile(li):\n",
    "    s= ''\n",
    "    for i in li:\n",
    "        s.join(i)\n",
    "    return s\n",
    "listtofile"
   ]
  },
  {
   "cell_type": "code",
   "execution_count": null,
   "metadata": {},
   "outputs": [],
   "source": []
  },
  {
   "cell_type": "code",
   "execution_count": null,
   "metadata": {},
   "outputs": [],
   "source": []
  },
  {
   "cell_type": "code",
   "execution_count": null,
   "metadata": {},
   "outputs": [],
   "source": []
  },
  {
   "cell_type": "code",
   "execution_count": null,
   "metadata": {},
   "outputs": [],
   "source": []
  },
  {
   "cell_type": "code",
   "execution_count": null,
   "metadata": {},
   "outputs": [],
   "source": []
  },
  {
   "cell_type": "code",
   "execution_count": null,
   "metadata": {},
   "outputs": [],
   "source": []
  },
  {
   "cell_type": "code",
   "execution_count": null,
   "metadata": {},
   "outputs": [],
   "source": []
  },
  {
   "cell_type": "code",
   "execution_count": null,
   "metadata": {},
   "outputs": [],
   "source": []
  }
 ],
 "metadata": {
  "kernelspec": {
   "display_name": "Python 3",
   "language": "python",
   "name": "python3"
  },
  "language_info": {
   "codemirror_mode": {
    "name": "ipython",
    "version": 3
   },
   "file_extension": ".py",
   "mimetype": "text/x-python",
   "name": "python",
   "nbconvert_exporter": "python",
   "pygments_lexer": "ipython3",
   "version": "3.7.3"
  }
 },
 "nbformat": 4,
 "nbformat_minor": 2
}
