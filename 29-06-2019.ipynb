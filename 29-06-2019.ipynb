{
 "cells": [
  {
   "cell_type": "markdown",
   "metadata": {},
   "source": [
    "## concatenate characters:(1)"
   ]
  },
  {
   "cell_type": "code",
   "execution_count": null,
   "metadata": {},
   "outputs": [],
   "source": [
    "#You are give N caracter in a line.\n",
    "#join all the characters and print them in a sngle line.\n",
    "#input:the first line contains an integer N.\n",
    "#   the second line contains N characters\n",
    "#output: join all the characters and print them in a single line\n",
    "\n",
    "#sample input: 4\n",
    "                o m a r\n",
    "#output:      omar\n",
    "\n"
   ]
  },
  {
   "cell_type": "code",
   "execution_count": null,
   "metadata": {},
   "outputs": [],
   "source": []
  },
  {
   "cell_type": "markdown",
   "metadata": {},
   "source": [
    "## Reverse Odd numbers untill N:(2)"
   ]
  },
  {
   "cell_type": "code",
   "execution_count": 14,
   "metadata": {},
   "outputs": [
    {
     "name": "stdout",
     "output_type": "stream",
     "text": [
      "10\n",
      "9\n",
      "7\n",
      "5\n",
      "3\n",
      "1\n"
     ]
    }
   ],
   "source": [
    "# you are given with an inpuut N.print the odd numbers between 1 to N in reverse order\n",
    "#Input:Single line input which is number N.\n",
    "# output: print the numbers in reverse orderline by line\n",
    "#sample: 10\n",
    "#sample output: 9\n",
    "             #   7\n",
    "              #  5\n",
    "               # 3\n",
    "                #1\n",
    "                \n",
    "n=int(input())\n",
    "if n%2 == 0:\n",
    "    n=n-1\n",
    "    \n",
    "for i in range(n,0,-2):\n",
    "    #if i%2!=0:\n",
    "        print(i)\n",
    "    "
   ]
  },
  {
   "cell_type": "code",
   "execution_count": null,
   "metadata": {},
   "outputs": [],
   "source": []
  },
  {
   "cell_type": "markdown",
   "metadata": {},
   "source": [
    "## Number f lies and dslikes:(3)"
   ]
  },
  {
   "cell_type": "code",
   "execution_count": null,
   "metadata": {},
   "outputs": [],
   "source": [
    "#your friend and youmade list oftpics and both of them voted if they like or dislike the topic.\n",
    "#0 denotes dislikes and 1 denotes likes. they asked you to count the number of topics that bth like or dislike\n",
    "\n",
    "#input:the firt line contains a tring A,denoting bobs likes and dislikes\n",
    "#      the second line contains a sstring P, denoting Alices likes and dislikes\n",
    "\n",
    "#output:print the number pf topics both bobs and alice,lik or dislike\n",
    "\n",
    "#s.input:010101 =A\n",
    " #        101101 =P\n",
    "    #s.output:3\n",
    "    #they both like 4th and 6th topics and they bth dilikes 5th tpic. so answer 3\n",
    "    "
   ]
  },
  {
   "cell_type": "code",
   "execution_count": null,
   "metadata": {},
   "outputs": [],
   "source": []
  },
  {
   "cell_type": "code",
   "execution_count": null,
   "metadata": {},
   "outputs": [],
   "source": []
  }
 ],
 "metadata": {
  "kernelspec": {
   "display_name": "Python 3",
   "language": "python",
   "name": "python3"
  },
  "language_info": {
   "codemirror_mode": {
    "name": "ipython",
    "version": 3
   },
   "file_extension": ".py",
   "mimetype": "text/x-python",
   "name": "python",
   "nbconvert_exporter": "python",
   "pygments_lexer": "ipython3",
   "version": "3.7.3"
  }
 },
 "nbformat": 4,
 "nbformat_minor": 2
}
