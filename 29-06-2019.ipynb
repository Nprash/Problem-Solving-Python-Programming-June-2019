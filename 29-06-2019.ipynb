{
 "cells": [
  {
   "cell_type": "markdown",
   "metadata": {},
   "source": [
    "# concatenate characters:(1)\n",
    "\n",
    "- i didn't code correctly any of them in yesterday's Test\n",
    "\n",
    "\n",
    "![jupyter 2.concatenate.omar](2.concatenate.omar.jpeg)"
   ]
  },
  {
   "cell_type": "code",
   "execution_count": 16,
   "metadata": {},
   "outputs": [
    {
     "name": "stdout",
     "output_type": "stream",
     "text": [
      "4\n",
      "o m a r\n",
      "omar\n"
     ]
    }
   ],
   "source": [
    "#You are give N caracter in a line.\n",
    "#join all the characters and print them in a sngle line.\n",
    "#input:the first line contains an integer N.\n",
    "#   the second line contains N characters\n",
    "#output: join all the characters and print them in a single line\n",
    "\n",
    "#sample input: 4\n",
    "#                o m a r\n",
    "#output:      omar\n",
    "\n",
    "n=int(input())\n",
    "char=input()\n",
    "r=char.replace(' ','')\n",
    "print(r)"
   ]
  },
  {
   "cell_type": "code",
   "execution_count": null,
   "metadata": {},
   "outputs": [],
   "source": []
  },
  {
   "cell_type": "markdown",
   "metadata": {},
   "source": [
    "# Reverse Odd numbers untill N:(2)\n",
    "\n",
    "<img src=\"1.odd reverse order.jpeg\" style=\"float:left\">"
   ]
  },
  {
   "cell_type": "code",
   "execution_count": 1,
   "metadata": {},
   "outputs": [
    {
     "name": "stdout",
     "output_type": "stream",
     "text": [
      "10\n",
      "9\n",
      "7\n",
      "5\n",
      "3\n",
      "1\n"
     ]
    }
   ],
   "source": [
    "# you are given with an inpuut N.print the odd numbers between 1 to N in reverse order\n",
    "#Input:Single line input which is number N.\n",
    "# output: print the numbers in reverse orderline by line\n",
    "#sample: 10\n",
    "#sample output: 9\n",
    "             #   7\n",
    "              #  5\n",
    "               # 3\n",
    "                #1\n",
    "                \n",
    "n=int(input())\n",
    "if n%2 == 0:\n",
    "    n=n-1\n",
    "    \n",
    "for i in range(n,0,-2):\n",
    "    #if i%2!=0:\n",
    "        print(i)"
   ]
  },
  {
   "cell_type": "code",
   "execution_count": 15,
   "metadata": {},
   "outputs": [
    {
     "name": "stdout",
     "output_type": "stream",
     "text": [
      "10\n",
      "9\n",
      "7\n",
      "5\n",
      "3\n",
      "1\n"
     ]
    }
   ],
   "source": [
    "n=int(input())\n",
    "for i in range(n,0,-1):\n",
    "    if i%2!=0:\n",
    "        print(i)"
   ]
  },
  {
   "cell_type": "markdown",
   "metadata": {},
   "source": [
    "# Number  likes and dslikes:(3)\n",
    "\n",
    "\n",
    "![jupyter 3.number of likes](3.number of likes.jpeg)"
   ]
  },
  {
   "cell_type": "code",
   "execution_count": 3,
   "metadata": {},
   "outputs": [
    {
     "name": "stderr",
     "output_type": "stream",
     "text": [
      "'[Jupyter' is not recognized as an internal or external command,\n",
      "operable program or batch file.\n"
     ]
    }
   ],
   "source": [
    "![Jupyter 3.](3.jpeg)"
   ]
  },
  {
   "cell_type": "code",
   "execution_count": 51,
   "metadata": {},
   "outputs": [
    {
     "name": "stdout",
     "output_type": "stream",
     "text": [
      "010101\n",
      "101101\n",
      "3\n"
     ]
    }
   ],
   "source": [
    "\n",
    "\n",
    "\n",
    "#your friend and youmade list of topics and both of them voted if they like or dislike the topic.\n",
    "#0 denotes dislikes and 1 denotes likes. they asked you to count the number of topics that bth like or dislike\n",
    "\n",
    "#input:the firt line contains a tring A,denoting bobs likes and dislikes\n",
    "#      the second line contains a sstring P, denoting Alices likes and dislikes\n",
    "\n",
    "#output:print the number pf topics both bobs and alice,lik or dislike\n",
    "\n",
    "#s.input:010101 =A\n",
    " #        101101 =P\n",
    "    #s.output:3\n",
    "    #they both like 4th and 6th topics and they bth dilikes 5th tpic. so answer 3\n",
    "    \n",
    "\n",
    "a=input()\n",
    "b=input()\n",
    "#k=len(a)\n",
    "c=0\n",
    "for i in range(len(a)):\n",
    "    if a[i]==b[i]:\n",
    "        c=c+1\n",
    "print(c)\n",
    "\n",
    "    \n"
   ]
  },
  {
   "cell_type": "code",
   "execution_count": 54,
   "metadata": {},
   "outputs": [
    {
     "name": "stdout",
     "output_type": "stream",
     "text": [
      "Mahesh\n",
      "1 3\n",
      "haMesh\n"
     ]
    }
   ],
   "source": [
    "#input:Mahesh  # 1,3 are 1st position\n",
    "#output:ahMesh\n",
    "\n",
    "s=input()\n",
    "li=list(map(int,input().split()))\n",
    "s1=\"\"\n",
    "s2=s[li[0]-1:li[1]]\n",
    "s2=s2[::-1]\n",
    "for ch in s[li[1]:]:\n",
    "    s2+=ch\n",
    "print(s2)"
   ]
  },
  {
   "cell_type": "markdown",
   "metadata": {},
   "source": [
    "### for practice problems"
   ]
  },
  {
   "cell_type": "code",
   "execution_count": 8,
   "metadata": {},
   "outputs": [],
   "source": [
    "#8. Print the number of digits, alphabets and any other \n",
    "#www.way2sms.com\n",
    "#DIGITS 1\n",
    "#ALPHABETS  12\n",
    "#OTHER 2\n",
    "\n",
    "n=[]\n",
    "\n",
    "\n",
    "\n"
   ]
  },
  {
   "cell_type": "code",
   "execution_count": 50,
   "metadata": {},
   "outputs": [
    {
     "name": "stdout",
     "output_type": "stream",
     "text": [
      "10\n",
      "2 4 6 8 10 \n",
      "\n",
      "1 3 5 7 9 "
     ]
    }
   ],
   "source": [
    "### 1.Print even and odd numbers up to given range.\n",
    "\n",
    "#### input : 10 \n",
    "#### output:\n",
    "#### even numbers -->  2,4,6,8,10\n",
    "#### odd numbers --> 1,3,5,7,9\n",
    "\n",
    "n=int(input())\n",
    "for i in range(1,n+1):\n",
    "    if i%2==0:\n",
    "        print(i,end=' ')\n",
    "print(\"\\n\")\n",
    "for k in range(0,n):\n",
    "    if k%2!=0:\n",
    "        print(k,end=' ')\n",
    "        \n",
    "#print(i,k,sep=\" \")"
   ]
  },
  {
   "cell_type": "code",
   "execution_count": null,
   "metadata": {},
   "outputs": [],
   "source": [
    "### 2.print given numbers prime or not.\n",
    "\n",
    "#### input: --> 5 9\n",
    "#### output: -->5  True\n",
    "####                   9   False\n",
    "\n",
    "\n",
    "n=int(input())\n",
    "for i in range(n):\n",
    "    if i%1==0 and i%i==0:\n",
    "        return True\n",
    "    else:\n",
    "        False\n",
    "    "
   ]
  },
  {
   "cell_type": "code",
   "execution_count": null,
   "metadata": {},
   "outputs": [],
   "source": []
  },
  {
   "cell_type": "code",
   "execution_count": null,
   "metadata": {},
   "outputs": [],
   "source": []
  },
  {
   "cell_type": "code",
   "execution_count": null,
   "metadata": {},
   "outputs": [],
   "source": []
  },
  {
   "cell_type": "code",
   "execution_count": null,
   "metadata": {},
   "outputs": [],
   "source": []
  },
  {
   "cell_type": "code",
   "execution_count": null,
   "metadata": {},
   "outputs": [],
   "source": []
  },
  {
   "cell_type": "code",
   "execution_count": null,
   "metadata": {},
   "outputs": [],
   "source": []
  },
  {
   "cell_type": "code",
   "execution_count": null,
   "metadata": {},
   "outputs": [],
   "source": []
  },
  {
   "cell_type": "code",
   "execution_count": null,
   "metadata": {},
   "outputs": [],
   "source": []
  },
  {
   "cell_type": "code",
   "execution_count": null,
   "metadata": {},
   "outputs": [],
   "source": []
  },
  {
   "cell_type": "code",
   "execution_count": null,
   "metadata": {},
   "outputs": [],
   "source": []
  },
  {
   "cell_type": "code",
   "execution_count": null,
   "metadata": {},
   "outputs": [],
   "source": []
  },
  {
   "cell_type": "code",
   "execution_count": null,
   "metadata": {},
   "outputs": [],
   "source": []
  },
  {
   "cell_type": "code",
   "execution_count": null,
   "metadata": {},
   "outputs": [],
   "source": []
  },
  {
   "cell_type": "code",
   "execution_count": null,
   "metadata": {},
   "outputs": [],
   "source": []
  },
  {
   "cell_type": "code",
   "execution_count": null,
   "metadata": {},
   "outputs": [],
   "source": []
  },
  {
   "cell_type": "markdown",
   "metadata": {},
   "source": [
    "# Tuples:\n",
    "\n",
    "--> it gives Access only\n",
    "\n",
    " - store any type of values\n",
    " - in this count & index operable\n",
    " - tuples exists in List\n",
    " - but list doesnt exists in tuple"
   ]
  },
  {
   "cell_type": "code",
   "execution_count": 55,
   "metadata": {},
   "outputs": [
    {
     "data": {
      "text/plain": [
       "(12, 'sdc', 12.34)"
      ]
     },
     "execution_count": 55,
     "metadata": {},
     "output_type": "execute_result"
    }
   ],
   "source": [
    "# t=() or tuple()\n",
    "\n",
    "t=(12, 'sdc', 12.34)\n",
    "t"
   ]
  },
  {
   "cell_type": "code",
   "execution_count": 56,
   "metadata": {},
   "outputs": [
    {
     "data": {
      "text/plain": [
       "12"
      ]
     },
     "execution_count": 56,
     "metadata": {},
     "output_type": "execute_result"
    }
   ],
   "source": [
    "t[0]"
   ]
  },
  {
   "cell_type": "code",
   "execution_count": 57,
   "metadata": {},
   "outputs": [
    {
     "data": {
      "text/plain": [
       "3"
      ]
     },
     "execution_count": 57,
     "metadata": {},
     "output_type": "execute_result"
    }
   ],
   "source": [
    "len(t)"
   ]
  },
  {
   "cell_type": "code",
   "execution_count": 61,
   "metadata": {},
   "outputs": [
    {
     "ename": "SyntaxError",
     "evalue": "unexpected EOF while parsing (<ipython-input-61-e2c4c983b209>, line 2)",
     "output_type": "error",
     "traceback": [
      "\u001b[1;36m  File \u001b[1;32m\"<ipython-input-61-e2c4c983b209>\"\u001b[1;36m, line \u001b[1;32m2\u001b[0m\n\u001b[1;33m    dir(t\u001b[0m\n\u001b[1;37m         ^\u001b[0m\n\u001b[1;31mSyntaxError\u001b[0m\u001b[1;31m:\u001b[0m unexpected EOF while parsing\n"
     ]
    }
   ],
   "source": [
    "t[0]\n",
    "dir(t0"
   ]
  },
  {
   "cell_type": "markdown",
   "metadata": {},
   "source": [
    "#### Dictionaries"
   ]
  },
  {
   "cell_type": "code",
   "execution_count": 62,
   "metadata": {},
   "outputs": [
    {
     "name": "stdout",
     "output_type": "stream",
     "text": [
      "{'name': 'prasanth', 'branch': 'cse'} <class 'dict'>\n"
     ]
    }
   ],
   "source": [
    "words={'name':'prasanth',\"branch\":\"cse\"}\n",
    "print(words,type(words))"
   ]
  },
  {
   "cell_type": "code",
   "execution_count": 66,
   "metadata": {},
   "outputs": [
    {
     "name": "stdout",
     "output_type": "stream",
     "text": [
      "cse\n"
     ]
    }
   ],
   "source": [
    "print(words[\"branch\"])"
   ]
  },
  {
   "cell_type": "code",
   "execution_count": 68,
   "metadata": {},
   "outputs": [
    {
     "name": "stdout",
     "output_type": "stream",
     "text": [
      "{'name': 'prasanth', 'branch': 'cse'}\n",
      "{'name': 'prasanth', 'branch': 'bsc'}\n"
     ]
    }
   ],
   "source": [
    "print(words)\n",
    "words['branch']=\"bsc\"\n",
    "print(words)"
   ]
  },
  {
   "cell_type": "code",
   "execution_count": 70,
   "metadata": {},
   "outputs": [
    {
     "name": "stdout",
     "output_type": "stream",
     "text": [
      "{'name': 'prasamth', 'branch': 'mpc'}\n"
     ]
    }
   ],
   "source": [
    "words={\"name\":'raghu',\"branch\":\"mpc\",\"name\":\"prasamth\"}\n",
    "print(words)"
   ]
  },
  {
   "cell_type": "code",
   "execution_count": 71,
   "metadata": {},
   "outputs": [
    {
     "name": "stdout",
     "output_type": "stream",
     "text": [
      "{'name': ['ravi', 'ram'], 'branch': 'bsc'}\n"
     ]
    }
   ],
   "source": [
    "words={\"name\":[\"ravi\",\"ram\"],\"branch\":\"bsc\"}\n",
    "print(words)"
   ]
  },
  {
   "cell_type": "code",
   "execution_count": 73,
   "metadata": {},
   "outputs": [
    {
     "name": "stdout",
     "output_type": "stream",
     "text": [
      "ravi\n"
     ]
    }
   ],
   "source": [
    "print(words['name'][0])"
   ]
  },
  {
   "cell_type": "code",
   "execution_count": 74,
   "metadata": {},
   "outputs": [
    {
     "name": "stdout",
     "output_type": "stream",
     "text": [
      "s\n"
     ]
    }
   ],
   "source": [
    "print(words[\"branch\"][1]) #\"cse\"----->s"
   ]
  },
  {
   "cell_type": "code",
   "execution_count": 75,
   "metadata": {},
   "outputs": [
    {
     "name": "stdout",
     "output_type": "stream",
     "text": [
      "name\n",
      "branch\n"
     ]
    }
   ],
   "source": [
    "for each in words:\n",
    "    print(each)"
   ]
  },
  {
   "cell_type": "code",
   "execution_count": 77,
   "metadata": {},
   "outputs": [
    {
     "name": "stdout",
     "output_type": "stream",
     "text": [
      "name -----> ['ravi', 'ram']\n",
      "branch -----> bsc\n"
     ]
    }
   ],
   "source": [
    "for key in words:\n",
    "    print(key,'----->',words[key])"
   ]
  },
  {
   "cell_type": "code",
   "execution_count": null,
   "metadata": {},
   "outputs": [],
   "source": [
    "words.clear()\n",
    "print(words)  ## clear all keys and values"
   ]
  },
  {
   "cell_type": "code",
   "execution_count": 79,
   "metadata": {},
   "outputs": [
    {
     "name": "stdout",
     "output_type": "stream",
     "text": [
      "{'name': ['ravi', 'ram'], 'branch': 'bsc'}\n"
     ]
    }
   ],
   "source": [
    "newwords=words.copy()  # copy\n",
    "print(newwords)"
   ]
  },
  {
   "cell_type": "code",
   "execution_count": null,
   "metadata": {},
   "outputs": [],
   "source": []
  },
  {
   "cell_type": "markdown",
   "metadata": {},
   "source": [
    "## dict.get(key)"
   ]
  },
  {
   "cell_type": "code",
   "execution_count": 80,
   "metadata": {},
   "outputs": [
    {
     "data": {
      "text/plain": [
       "['ravi', 'ram']"
      ]
     },
     "execution_count": 80,
     "metadata": {},
     "output_type": "execute_result"
    }
   ],
   "source": [
    "words.get(\"name\")"
   ]
  },
  {
   "cell_type": "code",
   "execution_count": 82,
   "metadata": {},
   "outputs": [
    {
     "name": "stdout",
     "output_type": "stream",
     "text": [
      "None\n"
     ]
    }
   ],
   "source": [
    "print(words.get(\"mobile\"))"
   ]
  },
  {
   "cell_type": "code",
   "execution_count": 84,
   "metadata": {},
   "outputs": [
    {
     "name": "stdout",
     "output_type": "stream",
     "text": [
      "None\n",
      "hi\n"
     ]
    }
   ],
   "source": [
    "#print(words.get(\"name\"))\n",
    "print(words.get(\"mobile\"))\n",
    "print('hi')"
   ]
  },
  {
   "cell_type": "code",
   "execution_count": 86,
   "metadata": {},
   "outputs": [
    {
     "ename": "TypeError",
     "evalue": "'dict' object is not callable",
     "output_type": "error",
     "traceback": [
      "\u001b[1;31m---------------------------------------------------------------------------\u001b[0m",
      "\u001b[1;31mTypeError\u001b[0m                                 Traceback (most recent call last)",
      "\u001b[1;32m<ipython-input-86-0a04693e8fcb>\u001b[0m in \u001b[0;36m<module>\u001b[1;34m\u001b[0m\n\u001b[1;32m----> 1\u001b[1;33m \u001b[0mprint\u001b[0m\u001b[1;33m(\u001b[0m\u001b[0mwords\u001b[0m\u001b[1;33m(\u001b[0m\u001b[1;34m\"mobile\"\u001b[0m\u001b[1;33m)\u001b[0m\u001b[1;33m)\u001b[0m\u001b[1;33m\u001b[0m\u001b[1;33m\u001b[0m\u001b[0m\n\u001b[0m\u001b[0;32m      2\u001b[0m \u001b[0mprint\u001b[0m\u001b[1;33m(\u001b[0m\u001b[1;34m\"hiii\"\u001b[0m\u001b[1;33m)\u001b[0m\u001b[1;33m\u001b[0m\u001b[1;33m\u001b[0m\u001b[0m\n",
      "\u001b[1;31mTypeError\u001b[0m: 'dict' object is not callable"
     ]
    }
   ],
   "source": [
    "print(words(\"mobile\"))\n",
    "print(\"hiii\")"
   ]
  },
  {
   "cell_type": "code",
   "execution_count": 112,
   "metadata": {},
   "outputs": [
    {
     "name": "stdout",
     "output_type": "stream",
     "text": [
      "{'orange': 1, 'apple': 3, 'mango': 2}\n"
     ]
    }
   ],
   "source": [
    "\n",
    "fruits=['orange','apple','mango','apple','mango','apple']   #{'orange':1,'mango':2,'apple':2}\n",
    "fruits_dict={}\n",
    "#a=fruits.count('orange')\n",
    "#b=fruits.count('apple')\n",
    "#c=fruits.count('mango')\n",
    "#fruits_dict\n",
    "\n",
    "for fruit in fruits:\n",
    "    fruits_dict[fruit]=fruits_dict.get(fruit,0)+1\n",
    "print(fruits_dict)"
   ]
  },
  {
   "cell_type": "code",
   "execution_count": 113,
   "metadata": {},
   "outputs": [
    {
     "data": {
      "text/plain": [
       "3"
      ]
     },
     "execution_count": 113,
     "metadata": {},
     "output_type": "execute_result"
    }
   ],
   "source": [
    "len(fruits_dict)"
   ]
  },
  {
   "cell_type": "code",
   "execution_count": 118,
   "metadata": {},
   "outputs": [
    {
     "name": "stdout",
     "output_type": "stream",
     "text": [
      "1\n",
      "3\n",
      "2\n"
     ]
    }
   ],
   "source": [
    "for key in fruits_dict.keys():\n",
    "    print(fruits_dict.get(key))"
   ]
  },
  {
   "cell_type": "code",
   "execution_count": 119,
   "metadata": {},
   "outputs": [
    {
     "name": "stdout",
     "output_type": "stream",
     "text": [
      "orange:1\n",
      "apple:3\n",
      "mango:2\n"
     ]
    }
   ],
   "source": [
    "for key in fruits_dict.keys():\n",
    "    print(key,fruits_dict.get(key),sep=':')"
   ]
  },
  {
   "cell_type": "code",
   "execution_count": 120,
   "metadata": {},
   "outputs": [
    {
     "data": {
      "text/plain": [
       "dict_values([1, 3, 2])"
      ]
     },
     "execution_count": 120,
     "metadata": {},
     "output_type": "execute_result"
    }
   ],
   "source": [
    "fruits_dict.values()"
   ]
  },
  {
   "cell_type": "code",
   "execution_count": 122,
   "metadata": {},
   "outputs": [
    {
     "name": "stdout",
     "output_type": "stream",
     "text": [
      "1 3 2 "
     ]
    }
   ],
   "source": [
    "for value in fruits_dict.values():\n",
    "    print(value,end=\" \")"
   ]
  },
  {
   "cell_type": "code",
   "execution_count": 123,
   "metadata": {},
   "outputs": [
    {
     "name": "stdout",
     "output_type": "stream",
     "text": [
      "orange:1\n",
      "apple:3\n",
      "mango:2\n"
     ]
    }
   ],
   "source": [
    "for item in fruits_dict.items():\n",
    "    print(*item,sep=':')"
   ]
  },
  {
   "cell_type": "code",
   "execution_count": 124,
   "metadata": {},
   "outputs": [
    {
     "name": "stdout",
     "output_type": "stream",
     "text": [
      "orange:1\n",
      "apple:3\n",
      "mango:2\n"
     ]
    }
   ],
   "source": [
    "for k,v in fruits_dict.items():\n",
    "    print(k,v,sep=\":\")"
   ]
  },
  {
   "cell_type": "code",
   "execution_count": null,
   "metadata": {},
   "outputs": [],
   "source": [
    "for k,v in fruits_dict.items():\n",
    "    print(k,v,sep=\":\")"
   ]
  },
  {
   "cell_type": "code",
   "execution_count": 125,
   "metadata": {},
   "outputs": [
    {
     "data": {
      "text/plain": [
       "6"
      ]
     },
     "execution_count": 125,
     "metadata": {},
     "output_type": "execute_result"
    }
   ],
   "source": [
    "fruits_dict.get('Apple',6)"
   ]
  },
  {
   "cell_type": "code",
   "execution_count": 126,
   "metadata": {},
   "outputs": [
    {
     "data": {
      "text/plain": [
       "{'orange': 1, 'apple': 3, 'mango': 2}"
      ]
     },
     "execution_count": 126,
     "metadata": {},
     "output_type": "execute_result"
    }
   ],
   "source": [
    "fruits_dict"
   ]
  },
  {
   "cell_type": "code",
   "execution_count": 128,
   "metadata": {},
   "outputs": [
    {
     "data": {
      "text/plain": [
       "{'orange': 1, 'apple': 3, 'mango': 2, 'Apple': 6}"
      ]
     },
     "execution_count": 128,
     "metadata": {},
     "output_type": "execute_result"
    }
   ],
   "source": [
    "fruits_dict.setdefault('Apple',6)\n",
    "fruits_dict"
   ]
  },
  {
   "cell_type": "code",
   "execution_count": 131,
   "metadata": {},
   "outputs": [
    {
     "data": {
      "text/plain": [
       "{'orange': 1, 'apple': 3, 'mango': 2, 'Apple': 6, 'Balloon': 0}"
      ]
     },
     "execution_count": 131,
     "metadata": {},
     "output_type": "execute_result"
    }
   ],
   "source": [
    "fruits_dict.setdefault('Apple',0)\n",
    "fruits_dict"
   ]
  },
  {
   "cell_type": "markdown",
   "metadata": {},
   "source": [
    "### Exam-Questions & Answers"
   ]
  },
  {
   "cell_type": "markdown",
   "metadata": {},
   "source": [
    "![jupyter 1e](1e.jpeg)"
   ]
  },
  {
   "cell_type": "markdown",
   "metadata": {},
   "source": [
    "\n",
    "\n"
   ]
  },
  {
   "cell_type": "code",
   "execution_count": 137,
   "metadata": {},
   "outputs": [
    {
     "name": "stdout",
     "output_type": "stream",
     "text": [
      "100 200 5 400 100\n",
      "800\n"
     ]
    }
   ],
   "source": [
    "print(sum(list(map(int,list(filter(lambda x:len(x)==3,input().split()))))))"
   ]
  },
  {
   "cell_type": "code",
   "execution_count": 138,
   "metadata": {},
   "outputs": [
    {
     "name": "stdout",
     "output_type": "stream",
     "text": [
      "100 200 5 400 100\n"
     ]
    },
    {
     "data": {
      "text/plain": [
       "800"
      ]
     },
     "execution_count": 138,
     "metadata": {},
     "output_type": "execute_result"
    }
   ],
   "source": [
    "sum([int(num) for num in input().split() if len(num)==3])"
   ]
  },
  {
   "cell_type": "code",
   "execution_count": 4,
   "metadata": {},
   "outputs": [
    {
     "name": "stdout",
     "output_type": "stream",
     "text": [
      "401\n",
      "Greate\n"
     ]
    }
   ],
   "source": [
    " a=int(input())\n",
    "# value 400 to 500 # great\n",
    "#otherwise u need to improve\n",
    "if a>399 and a<501:\n",
    "    print(\"Greate\")\n",
    "else:\n",
    "    print(\"u need 2 improve\")"
   ]
  },
  {
   "cell_type": "markdown",
   "metadata": {},
   "source": [
    "###   item loop condition ---> list comperehence"
   ]
  },
  {
   "cell_type": "code",
   "execution_count": 7,
   "metadata": {},
   "outputs": [
    {
     "name": "stdout",
     "output_type": "stream",
     "text": [
      "hii\n"
     ]
    }
   ],
   "source": [
    "a=False\n",
    "if not a:\n",
    "    print(\"hii\")\n",
    "else:\n",
    "    print(\"hello\")"
   ]
  },
  {
   "cell_type": "code",
   "execution_count": 8,
   "metadata": {},
   "outputs": [
    {
     "name": "stdout",
     "output_type": "stream",
     "text": [
      "100\n",
      "0\n",
      "14\n",
      "28\n",
      "42\n",
      "56\n",
      "70\n",
      "84\n",
      "98\n"
     ]
    }
   ],
   "source": [
    "n=[]\n",
    "for i in range(100):\n",
    "    if i%2==0 and i%7==0:\n",
    "        print(i)"
   ]
  },
  {
   "cell_type": "code",
   "execution_count": 13,
   "metadata": {},
   "outputs": [
    {
     "name": "stdout",
     "output_type": "stream",
     "text": [
      "50\n",
      "[14, 28, 42]\n"
     ]
    }
   ],
   "source": [
    "numbers=[each for each in range(1,int(input())) if each%2==0 and each%7==0]  # print no divisible by 2 and 7 for a given range\n",
    "print(numbers)"
   ]
  },
  {
   "cell_type": "code",
   "execution_count": 14,
   "metadata": {},
   "outputs": [
    {
     "name": "stdout",
     "output_type": "stream",
     "text": [
      "[(3, 4, 5), (5, 12, 13), (6, 8, 10), (7, 24, 25), (8, 15, 17), (9, 12, 15), (9, 40, 41), (10, 24, 26), (11, 60, 61), (12, 16, 20), (12, 35, 37), (13, 84, 85), (14, 48, 50), (15, 20, 25), (15, 36, 39), (16, 30, 34), (16, 63, 65), (18, 24, 30), (18, 80, 82), (20, 21, 29), (20, 48, 52), (21, 28, 35), (21, 72, 75), (24, 32, 40), (24, 45, 51), (24, 70, 74), (25, 60, 65), (27, 36, 45), (28, 45, 53), (30, 40, 50), (30, 72, 78), (32, 60, 68), (33, 44, 55), (33, 56, 65), (35, 84, 91), (36, 48, 60), (36, 77, 85), (39, 52, 65), (39, 80, 89), (40, 42, 58), (40, 75, 85), (42, 56, 70), (45, 60, 75), (48, 55, 73), (48, 64, 80), (51, 68, 85), (54, 72, 90), (57, 76, 95), (60, 63, 87), (65, 72, 97)]\n"
     ]
    }
   ],
   "source": [
    "numbers=[(x,y,z) for x in range(1,100) for y in range(x,100) for z in range(y,100) if ((x**2)+(y**2)==(z**2))]\n",
    "print(numbers)"
   ]
  },
  {
   "cell_type": "code",
   "execution_count": null,
   "metadata": {},
   "outputs": [],
   "source": []
  },
  {
   "cell_type": "code",
   "execution_count": null,
   "metadata": {},
   "outputs": [],
   "source": []
  }
 ],
 "metadata": {
  "kernelspec": {
   "display_name": "Python 3",
   "language": "python",
   "name": "python3"
  },
  "language_info": {
   "codemirror_mode": {
    "name": "ipython",
    "version": 3
   },
   "file_extension": ".py",
   "mimetype": "text/x-python",
   "name": "python",
   "nbconvert_exporter": "python",
   "pygments_lexer": "ipython3",
   "version": "3.7.3"
  }
 },
 "nbformat": 4,
 "nbformat_minor": 2
}
