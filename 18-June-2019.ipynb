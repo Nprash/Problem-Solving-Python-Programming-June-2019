{
 "cells": [
  {
   "cell_type": "markdown",
   "metadata": {},
   "source": [
    "### 1)Tuples\n",
    "\n",
    "t1 = ()\n",
    "li = []\n",
    "\n",
    "Difference betwen Lists and Tuple\n",
    "\n",
    "Lists are mutable-can be changed or modified<br>\n",
    "- Used to Access , modify, Add, Deleet data<br>\n",
    "Toples are immutable - can't be changed or updated once intialised\n",
    "- used to access data only.\n",
    "- All Slicing operations works"
   ]
  },
  {
   "cell_type": "code",
   "execution_count": 5,
   "metadata": {},
   "outputs": [
    {
     "data": {
      "text/plain": [
       "(3, 4, 5)"
      ]
     },
     "execution_count": 5,
     "metadata": {},
     "output_type": "execute_result"
    }
   ],
   "source": [
    "t1 = (1, 2, 3, 4, 5)\n",
    "\n",
    "t1[3] # Accessing the 4th element\n",
    "\n",
    "t1[2::]           #accessing all elements from middle to last\n",
    "\n",
    "t1[len(t1)//2:]    # for every situation this"
   ]
  },
  {
   "cell_type": "code",
   "execution_count": 8,
   "metadata": {},
   "outputs": [
    {
     "data": {
      "text/plain": [
       "tuple"
      ]
     },
     "execution_count": 8,
     "metadata": {},
     "output_type": "execute_result"
    }
   ],
   "source": [
    "type(t1)"
   ]
  },
  {
   "cell_type": "code",
   "execution_count": null,
   "metadata": {},
   "outputs": [],
   "source": []
  },
  {
   "cell_type": "markdown",
   "metadata": {},
   "source": [
    "### 2)Dictionaries\n",
    "\n",
    "it works on the concept of set<br>\n",
    "Dictionaries->Set->Unique Data.<br>\n",
    "\n",
    "Keys,Values<br>\n",
    "Key is the unique identifier for a value<br>\n",
    "value is data that can accessed with a key<br>\n"
   ]
  },
  {
   "cell_type": "code",
   "execution_count": 19,
   "metadata": {},
   "outputs": [
    {
     "data": {
      "text/plain": [
       "True"
      ]
     },
     "execution_count": 19,
     "metadata": {},
     "output_type": "execute_result"
    }
   ],
   "source": [
    "d1 = {\"k1\":\"value1\", \"k2\":\"value2\"}\n",
    "\n",
    "\n",
    "d1[\"k2\"]  # Accessing the value with key K2\n",
    "d1.keys()   # Returns list of all Keys\n",
    "d1.values()  # Returns list of all values\n",
    "d1.items()  # Returns list of Tuples of Keys & Values\n",
    "d1[\"k3\"] = \"value3\"  #Adding an element to the dictionary\n",
    "d1\n",
    "\n",
    "d1[\"k3\"] = \"value4\" # Updating an element\n",
    "d1\n",
    "d1.pop(\"k3\")  #Removing an element\n",
    "d1\n",
    "\"k2\" in d1  # search keys but not values"
   ]
  },
  {
   "cell_type": "code",
   "execution_count": null,
   "metadata": {},
   "outputs": [],
   "source": []
  },
  {
   "cell_type": "markdown",
   "metadata": {},
   "source": [
    "### 2.1)Contacts Applications\n",
    " - Add Contacts\n",
    " - Search Contacts\n",
    " - List all Contacts\n",
    "   - name1:phone1\n",
    "   - name2:phone2\n",
    " - MOdify Contacts\n",
    " - Remove Contacts\n",
    " - Import Contacts"
   ]
  },
  {
   "cell_type": "code",
   "execution_count": 1,
   "metadata": {},
   "outputs": [
    {
     "name": "stdout",
     "output_type": "stream",
     "text": [
      "contact name1 added\n"
     ]
    }
   ],
   "source": [
    "contacts = {}\n",
    "def addContact(name, phone):\n",
    "    if name not in contacts:\n",
    "        contacts[name] = phone\n",
    "        print(\"contact %s added\" % name)\n",
    "    else:\n",
    "        print(\"contact %s already exists\" % name)\n",
    "    return\n",
    "addContact(\"name1\", \"1234567890\")"
   ]
  },
  {
   "cell_type": "code",
   "execution_count": 32,
   "metadata": {},
   "outputs": [
    {
     "name": "stdout",
     "output_type": "stream",
     "text": [
      "name1 -> 1234567890\n"
     ]
    }
   ],
   "source": [
    "def searchcontacts(name):\n",
    "    if name in contacts:\n",
    "        print(name,'->',contacts[name])\n",
    "    else:\n",
    "        print(\"%s does not exists\"%name)\n",
    "    return\n",
    "\n",
    "searchcontacts('name1')\n",
    "            "
   ]
  },
  {
   "cell_type": "code",
   "execution_count": null,
   "metadata": {},
   "outputs": [],
   "source": []
  },
  {
   "cell_type": "code",
   "execution_count": 35,
   "metadata": {},
   "outputs": [
    {
     "name": "stdout",
     "output_type": "stream",
     "text": [
      "2 Contacts Added Successfully\n"
     ]
    }
   ],
   "source": [
    "# New contacts is given as a dictionary\n",
    "# merge contacts with existing contacts\n",
    "def importcontacts(newcontacts):\n",
    "    contacts.update(newcontacts)\n",
    "    print(len(newcontacts.keys()),\"Contacts Added Successfully\")\n",
    "    return\n",
    "\n",
    "newcontacts = {\"name2\":998999899989, \"name3\":387893578913}\n",
    "\n",
    "importcontacts(newcontacts)\n",
    "    "
   ]
  },
  {
   "cell_type": "code",
   "execution_count": 36,
   "metadata": {},
   "outputs": [
    {
     "data": {
      "text/plain": [
       "{'name1': '1234567890', 'name2': 998999899989, 'name3': 387893578913}"
      ]
     },
     "execution_count": 36,
     "metadata": {},
     "output_type": "execute_result"
    }
   ],
   "source": [
    "contacts"
   ]
  },
  {
   "cell_type": "code",
   "execution_count": 37,
   "metadata": {},
   "outputs": [
    {
     "name": "stdout",
     "output_type": "stream",
     "text": [
      "updated name3 successfully\n"
     ]
    }
   ],
   "source": [
    "def modify(name,phone):\n",
    "    if name in contacts:\n",
    "        contacts[name]=phone\n",
    "        print(\"updated %s successfully\" % name)\n",
    "    else:\n",
    "        print(\"%s doesn't exists\" % name)\n",
    "    return\n",
    "\n",
    "modify(\"name3\", 7609999606)\n",
    "        \n",
    "    "
   ]
  },
  {
   "cell_type": "code",
   "execution_count": 38,
   "metadata": {},
   "outputs": [
    {
     "data": {
      "text/plain": [
       "{'name1': '1234567890', 'name2': 998999899989, 'name3': 7609999606}"
      ]
     },
     "execution_count": 38,
     "metadata": {},
     "output_type": "execute_result"
    }
   ],
   "source": [
    "contacts"
   ]
  },
  {
   "cell_type": "code",
   "execution_count": 42,
   "metadata": {},
   "outputs": [
    {
     "name": "stdout",
     "output_type": "stream",
     "text": [
      "delete name2 successfully\n"
     ]
    }
   ],
   "source": [
    "def delete(name,phone):\n",
    "    if name in contacts:\n",
    "        contacts.pop(name)\n",
    "        print(\"delete %s successfully\" % name)\n",
    "    else:\n",
    "        print(\"not deleted %s\" % name)\n",
    "        \n",
    "delete(\"name2\", 998999899989)\n"
   ]
  },
  {
   "cell_type": "code",
   "execution_count": 43,
   "metadata": {},
   "outputs": [
    {
     "data": {
      "text/plain": [
       "{'name1': '1234567890', 'name3': 7609999606}"
      ]
     },
     "execution_count": 43,
     "metadata": {},
     "output_type": "execute_result"
    }
   ],
   "source": [
    "contacts"
   ]
  },
  {
   "cell_type": "code",
   "execution_count": null,
   "metadata": {},
   "outputs": [],
   "source": []
  },
  {
   "cell_type": "code",
   "execution_count": null,
   "metadata": {},
   "outputs": [],
   "source": []
  },
  {
   "cell_type": "markdown",
   "metadata": {},
   "source": [
    "### Packages and Module\n",
    "\n",
    "**Packages**  -->  Collection of modules(Pyhton file .py) & subpackages\n",
    "\n",
    "**Subpackage **-->\n",
    "\n",
    "**Modules**   --> A Single Python file Containing functions\n",
    "\n",
    "Package -> Subpackages -> Modules -> Functions"
   ]
  },
  {
   "cell_type": "code",
   "execution_count": 47,
   "metadata": {},
   "outputs": [
    {
     "data": {
      "text/plain": [
       "3"
      ]
     },
     "execution_count": 47,
     "metadata": {},
     "output_type": "execute_result"
    }
   ],
   "source": [
    "import math \n",
    "math.floor(123.456)\n",
    "math.floor(22/7)"
   ]
  },
  {
   "cell_type": "code",
   "execution_count": 4,
   "metadata": {},
   "outputs": [
    {
     "ename": "NameError",
     "evalue": "name 'math' is not defined",
     "output_type": "error",
     "traceback": [
      "\u001b[1;31m---------------------------------------------------------------------------\u001b[0m",
      "\u001b[1;31mNameError\u001b[0m                                 Traceback (most recent call last)",
      "\u001b[1;32m<ipython-input-4-6c0e56000b17>\u001b[0m in \u001b[0;36m<module>\u001b[1;34m\u001b[0m\n\u001b[0;32m      1\u001b[0m \u001b[1;32mfrom\u001b[0m \u001b[0mmath\u001b[0m \u001b[1;32mimport\u001b[0m \u001b[0mfloor\u001b[0m\u001b[1;33m,\u001b[0m \u001b[0mpi\u001b[0m\u001b[1;33m\u001b[0m\u001b[1;33m\u001b[0m\u001b[0m\n\u001b[0;32m      2\u001b[0m \u001b[0mfloor\u001b[0m\u001b[1;33m(\u001b[0m\u001b[1;36m123.456\u001b[0m\u001b[1;33m)\u001b[0m\u001b[1;33m\u001b[0m\u001b[1;33m\u001b[0m\u001b[0m\n\u001b[1;32m----> 3\u001b[1;33m \u001b[0mmath\u001b[0m\u001b[1;33m.\u001b[0m\u001b[0mpi\u001b[0m\u001b[1;33m\u001b[0m\u001b[1;33m\u001b[0m\u001b[0m\n\u001b[0m",
      "\u001b[1;31mNameError\u001b[0m: name 'math' is not defined"
     ]
    }
   ],
   "source": [
    "from math import floor, pi\n",
    "floor(123.456)\n",
    "math.pi"
   ]
  },
  {
   "cell_type": "code",
   "execution_count": 5,
   "metadata": {},
   "outputs": [
    {
     "data": {
      "text/plain": [
       "123"
      ]
     },
     "execution_count": 5,
     "metadata": {},
     "output_type": "execute_result"
    }
   ],
   "source": [
    "from math import floor as fl\n",
    "fl(123.456)"
   ]
  },
  {
   "cell_type": "code",
   "execution_count": 21,
   "metadata": {},
   "outputs": [
    {
     "name": "stdout",
     "output_type": "stream",
     "text": [
      "15 87 46 84 6 21 72 18 77 73 60 7 66 71 1 37 1 68 39 90 "
     ]
    }
   ],
   "source": [
    "#Function to generate N random numbers\n",
    "\n",
    "import random\n",
    "\n",
    "def generateNrandomnumbers(n, lb, ub):\n",
    "    for i in range(0, n):\n",
    "        print(random.randint(lb,ub), end=\" \")\n",
    "        \n",
    "generateNrandomnumbers(20, 0, 100)"
   ]
  },
  {
   "cell_type": "code",
   "execution_count": null,
   "metadata": {},
   "outputs": [],
   "source": []
  },
  {
   "cell_type": "code",
   "execution_count": null,
   "metadata": {},
   "outputs": [],
   "source": []
  },
  {
   "cell_type": "code",
   "execution_count": 34,
   "metadata": {},
   "outputs": [
    {
     "data": {
      "text/plain": [
       "False"
      ]
     },
     "execution_count": 34,
     "metadata": {},
     "output_type": "execute_result"
    }
   ],
   "source": [
    "from Packages import numerical\n",
    "\n",
    "numerical.isprime(100)"
   ]
  },
  {
   "cell_type": "code",
   "execution_count": null,
   "metadata": {},
   "outputs": [],
   "source": []
  },
  {
   "cell_type": "code",
   "execution_count": null,
   "metadata": {},
   "outputs": [],
   "source": []
  },
  {
   "cell_type": "code",
   "execution_count": null,
   "metadata": {},
   "outputs": [],
   "source": []
  },
  {
   "cell_type": "code",
   "execution_count": null,
   "metadata": {},
   "outputs": [],
   "source": []
  },
  {
   "cell_type": "code",
   "execution_count": null,
   "metadata": {},
   "outputs": [],
   "source": []
  },
  {
   "cell_type": "code",
   "execution_count": null,
   "metadata": {},
   "outputs": [],
   "source": []
  },
  {
   "cell_type": "code",
   "execution_count": null,
   "metadata": {},
   "outputs": [],
   "source": []
  },
  {
   "cell_type": "code",
   "execution_count": null,
   "metadata": {},
   "outputs": [],
   "source": []
  },
  {
   "cell_type": "code",
   "execution_count": null,
   "metadata": {},
   "outputs": [],
   "source": []
  },
  {
   "cell_type": "code",
   "execution_count": null,
   "metadata": {},
   "outputs": [],
   "source": []
  },
  {
   "cell_type": "code",
   "execution_count": null,
   "metadata": {},
   "outputs": [],
   "source": []
  },
  {
   "cell_type": "code",
   "execution_count": null,
   "metadata": {},
   "outputs": [],
   "source": []
  },
  {
   "cell_type": "code",
   "execution_count": null,
   "metadata": {},
   "outputs": [],
   "source": []
  },
  {
   "cell_type": "code",
   "execution_count": null,
   "metadata": {},
   "outputs": [],
   "source": []
  },
  {
   "cell_type": "code",
   "execution_count": null,
   "metadata": {},
   "outputs": [],
   "source": []
  },
  {
   "cell_type": "code",
   "execution_count": null,
   "metadata": {},
   "outputs": [],
   "source": []
  },
  {
   "cell_type": "code",
   "execution_count": null,
   "metadata": {},
   "outputs": [],
   "source": []
  },
  {
   "cell_type": "code",
   "execution_count": null,
   "metadata": {},
   "outputs": [],
   "source": []
  }
 ],
 "metadata": {
  "kernelspec": {
   "display_name": "Python 3",
   "language": "python",
   "name": "python3"
  },
  "language_info": {
   "codemirror_mode": {
    "name": "ipython",
    "version": 3
   },
   "file_extension": ".py",
   "mimetype": "text/x-python",
   "name": "python",
   "nbconvert_exporter": "python",
   "pygments_lexer": "ipython3",
   "version": "3.7.3"
  }
 },
 "nbformat": 4,
 "nbformat_minor": 2
}
