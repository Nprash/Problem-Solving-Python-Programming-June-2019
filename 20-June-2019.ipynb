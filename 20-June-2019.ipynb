{
 "cells": [
  {
   "cell_type": "markdown",
   "metadata": {},
   "source": [
    "#### Date:20-june-2019\n",
    "\n",
    "## Day Objectives\n",
    "\n",
    " - Regular Expressions\n",
    "    - Construction Regular Expressions for various use cases\n",
    "    - Regular Expressions Module and related in Python\n",
    "    - Improving the Contacts Application with name and phone number validations\n",
    " - File Handling\n",
    "    - Text Files\n",
    "    - Upgrading Contacts Applications to store contacts information in a text file.\n"
   ]
  },
  {
   "cell_type": "markdown",
   "metadata": {},
   "source": [
    "### Regular Expressions\n",
    "\n",
    " - Pattern Matching\n",
    " - Symbolic Notation of a Pattern\n",
    "     - Pattern :Format which repeats\n",
    "     - Pattern(Reg-exp) Represents the set of all values which matches that pattern\n",
    " \n",
    " - [0-9] ->Any digits\n",
    " \n",
    " - [a-z] -> Any lower case alphabet\n",
    " \n",
    " - [2468]->All single digit Multiples of 2\n",
    " \n",
    " - ^[0-9]{1}$ -> represents only single digit numbers(highlightes)(start&ends with single digit)\n",
    " \n",
    " - ^[0-9]{3}$ -> represents only 3digit numbers(highlightes)(start with 0 & ends with 3 digit)\n",
    " \n",
    " - $ symbols denots highlights(matches) the first particular digits,if it removes still highlighting(starting) remains even       have many digits. if removes ^cap still highlighting(matching) from end side even have many numbers\n",
    " \n",
    " - [0-9]*0$ -> All multiples of 10(matches multiples of 10)\n",
    " \n",
    " - ^([1-9][0-9]*[05])$|^([5])$   -> All Multiples of 5\n",
    " \n",
    " - [w][o][r][d] 0r (word) -> Search for a 'word'\n",
    " \n",
    " - ^[1-9][0-9]{9}$  -> All 10 digit Numbers\n",
    " \n",
    " - ^[6-9][0-9]{9}$|^[0][6-9][0-9]{9}$|^[+][9][1][6-9][0-9]{9}$ -> Validating phone numbers(india-start with +91, 0, 9876                      followed)\n",
    " - ^[0-9a-z][0-9a-z_.]{4,13}[0-9a-z][@][a-z0-9]{3,18}[.][a-z]{2,4}$   -> E-mail Validation(username@domain\n",
    " \n",
    "   - username\n",
    "                - Length of user name : [6, 15]\n",
    "                - No special character otherthan _.\n",
    "                -should not begin & end with_.\n",
    "                - character set : all digits and lower case alphabet _.\n",
    "    - domain\n",
    "             - length of domain : [3, 18]\n",
    "             -No special characters\n",
    "             -character set : all digits and alphabet\n",
    "    - extension\n",
    "             - Length of extension : [2, 4]\n",
    "             - No special character\n",
    "             - character set : lower case alphabet\n",
    "             \n",
    " - ^[a]...[z]$ -> Any string of length 5 that \n",
    " \n",
    " - ^[a].*[z]$  -> Any string of any length that"
   ]
  },
  {
   "cell_type": "code",
   "execution_count": null,
   "metadata": {},
   "outputs": [],
   "source": [
    "^[0-9a-z][0-9a-z_.]{4,13}[0-9a-z]$"
   ]
  },
  {
   "cell_type": "code",
   "execution_count": null,
   "metadata": {},
   "outputs": [],
   "source": [
    "^[0-9a-z][0-9a-z_.]{4,13}[0-9a-z]"
   ]
  },
  {
   "cell_type": "code",
   "execution_count": null,
   "metadata": {},
   "outputs": [],
   "source": []
  },
  {
   "cell_type": "code",
   "execution_count": 19,
   "metadata": {},
   "outputs": [
    {
     "data": {
      "text/plain": [
       "True"
      ]
     },
     "execution_count": 19,
     "metadata": {},
     "output_type": "execute_result"
    }
   ],
   "source": [
    "# Function to validate a phone number\n",
    "\n",
    "import re\n",
    "def phonenumbervalidator(number):\n",
    "    pattern ='^[6-9][0-9]{9}$|^[0][6-9][0-9]{9}$|^[+][9][1][6-9][0-9]{9}$'\n",
    "    if re.match(pattern, str(number)):\n",
    "        return True\n",
    "    else:\n",
    "        return False\n",
    "\n",
    "\n",
    "        \n",
    "        \n",
    "#phonenumbervalidator(9989766321)\n",
    "\n",
    "def emailvalidator(email):\n",
    "    pattern = '^[0-9a-z][0-9a-z_.]{4,13}[0-9a-z][@][a-z0-9]{3,18}[.][a-z]{2,4}$'\n",
    "    if re.match(pattern, email):\n",
    "        return True\n",
    "    return False\n",
    "emailvalidator(\"prasanth.n@gmail.com\")"
   ]
  },
  {
   "cell_type": "code",
   "execution_count": 8,
   "metadata": {},
   "outputs": [
    {
     "ename": "NameError",
     "evalue": "name 'phonenumbervalidator' is not defined",
     "output_type": "error",
     "traceback": [
      "\u001b[1;31m---------------------------------------------------------------------------\u001b[0m",
      "\u001b[1;31mNameError\u001b[0m                                 Traceback (most recent call last)",
      "\u001b[1;32m<ipython-input-8-8d0e6448e0b8>\u001b[0m in \u001b[0;36m<module>\u001b[1;34m\u001b[0m\n\u001b[0;32m     17\u001b[0m         \u001b[0mprint\u001b[0m\u001b[1;33m(\u001b[0m\u001b[0mname\u001b[0m\u001b[1;33m,\u001b[0m \u001b[1;34m\"added successfully\"\u001b[0m\u001b[1;33m)\u001b[0m\u001b[1;33m\u001b[0m\u001b[1;33m\u001b[0m\u001b[0m\n\u001b[0;32m     18\u001b[0m         \u001b[1;32mreturn\u001b[0m\u001b[1;33m\u001b[0m\u001b[1;33m\u001b[0m\u001b[0m\n\u001b[1;32m---> 19\u001b[1;33m \u001b[0maddContact\u001b[0m\u001b[1;33m(\u001b[0m\u001b[1;34m\"prasanth1\"\u001b[0m\u001b[1;33m,\u001b[0m \u001b[1;36m7893452345\u001b[0m\u001b[1;33m,\u001b[0m \u001b[1;34m'suresh56@gmail.com'\u001b[0m\u001b[1;33m)\u001b[0m\u001b[1;33m\u001b[0m\u001b[1;33m\u001b[0m\u001b[0m\n\u001b[0m",
      "\u001b[1;32m<ipython-input-8-8d0e6448e0b8>\u001b[0m in \u001b[0;36maddContact\u001b[1;34m(name, phone, email)\u001b[0m\n\u001b[0;32m      5\u001b[0m         \u001b[0mprint\u001b[0m\u001b[1;33m(\u001b[0m\u001b[0mname\u001b[0m\u001b[1;33m,\u001b[0m \u001b[1;34m\"already exists.\"\u001b[0m\u001b[1;33m)\u001b[0m\u001b[1;33m\u001b[0m\u001b[1;33m\u001b[0m\u001b[0m\n\u001b[0;32m      6\u001b[0m     \u001b[1;32melse\u001b[0m\u001b[1;33m:\u001b[0m\u001b[1;33m\u001b[0m\u001b[1;33m\u001b[0m\u001b[0m\n\u001b[1;32m----> 7\u001b[1;33m         \u001b[1;32mif\u001b[0m \u001b[1;32mnot\u001b[0m \u001b[0mphonenumbervalidator\u001b[0m\u001b[1;33m(\u001b[0m\u001b[0mphone\u001b[0m\u001b[1;33m)\u001b[0m\u001b[1;33m:\u001b[0m\u001b[1;33m\u001b[0m\u001b[1;33m\u001b[0m\u001b[0m\n\u001b[0m\u001b[0;32m      8\u001b[0m             \u001b[0mprint\u001b[0m\u001b[1;33m(\u001b[0m\u001b[1;34m\"invalid phone number\"\u001b[0m\u001b[1;33m)\u001b[0m\u001b[1;33m\u001b[0m\u001b[1;33m\u001b[0m\u001b[0m\n\u001b[0;32m      9\u001b[0m             \u001b[1;32mreturn\u001b[0m\u001b[1;33m\u001b[0m\u001b[1;33m\u001b[0m\u001b[0m\n",
      "\u001b[1;31mNameError\u001b[0m: name 'phonenumbervalidator' is not defined"
     ]
    }
   ],
   "source": [
    "contacts = {\"name1\":[9876543210,'name1@domain.exit'],\"name2\":[1234567890,'nimmanaprasanthlove@gmail.com']}\n",
    "def addContact(name, phone, email):\n",
    "    #verify that the contact doesnt already exists\n",
    "    if name in contacts:\n",
    "        print(name, \"already exists.\")\n",
    "    else:\n",
    "        if not phonenumbervalidator(phone):\n",
    "            print(\"invalid phone number\")\n",
    "            return\n",
    "        if not emailvalidator(email):\n",
    "            print(\"invalid email address\")\n",
    "        return\n",
    "        newcontact = []\n",
    "        newcontact.append(phone)\n",
    "        newcontact.append(email)\n",
    "        contacts[name] = newcontact\n",
    "        print(name, \"added successfully\")\n",
    "        return\n",
    "addContact(\"prasanth1\", 7893452345, 'suresh56@gmail.com')"
   ]
  },
  {
   "cell_type": "code",
   "execution_count": 7,
   "metadata": {},
   "outputs": [
    {
     "data": {
      "text/plain": [
       "{'name1': [9876543210, 'name1@domain.exit'],\n",
       " 'name2': [1234567890, 'nimmanaprasanthlove@gmail.com']}"
      ]
     },
     "execution_count": 7,
     "metadata": {},
     "output_type": "execute_result"
    }
   ],
   "source": [
    "contacts"
   ]
  },
  {
   "cell_type": "code",
   "execution_count": null,
   "metadata": {},
   "outputs": [],
   "source": []
  },
  {
   "cell_type": "code",
   "execution_count": 12,
   "metadata": {},
   "outputs": [
    {
     "name": "stdout",
     "output_type": "stream",
     "text": [
      "name1 does not exists\n"
     ]
    }
   ],
   "source": [
    "def searchcontacts(name):\n",
    "    if name in contacts:\n",
    "        print(name)\n",
    "        print(\"phone:\",contacts[name][0])\n",
    "        print(\"email:\",contacts[name][1])\n",
    "    else:\n",
    "        print(\"%s does not exists\"%name)\n",
    "    return\n",
    "\n",
    "searchcontacts('name1')\n"
   ]
  },
  {
   "cell_type": "code",
   "execution_count": null,
   "metadata": {},
   "outputs": [],
   "source": []
  },
  {
   "cell_type": "code",
   "execution_count": 33,
   "metadata": {},
   "outputs": [
    {
     "ename": "SyntaxError",
     "evalue": "invalid syntax (<ipython-input-33-89b871e8fd50>, line 8)",
     "output_type": "error",
     "traceback": [
      "\u001b[1;36m  File \u001b[1;32m\"<ipython-input-33-89b871e8fd50>\"\u001b[1;36m, line \u001b[1;32m8\u001b[0m\n\u001b[1;33m    newcontacts = {\"name4\":9989998989, \"name4_123@domain.com\"}\u001b[0m\n\u001b[1;37m                                                             ^\u001b[0m\n\u001b[1;31mSyntaxError\u001b[0m\u001b[1;31m:\u001b[0m invalid syntax\n"
     ]
    }
   ],
   "source": [
    "# New contacts is given as a dictionary\n",
    "# merge contacts with existing contacts\n",
    "def importcontacts(newcontacts):\n",
    "    contacts.update(newcontacts)\n",
    "    print(len(newcontacts.keys()),\"Contacts Added Successfully\")\n",
    "    return\n",
    "\n",
    "newcontacts = {\"name4\":9989998989, \"name4_123@domain.com\"}\n",
    "\n",
    "importcontacts(newcontacts)\n"
   ]
  },
  {
   "cell_type": "code",
   "execution_count": 38,
   "metadata": {},
   "outputs": [
    {
     "name": "stdout",
     "output_type": "stream",
     "text": [
      "name1 \n",
      " phone : 9876543210 \n",
      " email :\n",
      "name2 \n",
      " phone : 1234567890 \n",
      " email :\n"
     ]
    }
   ],
   "source": [
    "#Function to List all contacts\n",
    "\n",
    "def listallcontacts():\n",
    "    for contact,info in contacts.items():\n",
    "        print(contact, \"\\n\", \"phone :\", info[0], \"\\n\", \"email :\")\n",
    "              \n",
    "listallcontacts()\n",
    "            \n",
    "        "
   ]
  },
  {
   "cell_type": "code",
   "execution_count": null,
   "metadata": {},
   "outputs": [],
   "source": []
  },
  {
   "cell_type": "code",
   "execution_count": null,
   "metadata": {},
   "outputs": [],
   "source": [
    "# Function to edit contact information  ## assignment to us\n",
    "\n",
    "def editcontact(name, phone, email):\n",
    "    "
   ]
  },
  {
   "cell_type": "code",
   "execution_count": null,
   "metadata": {},
   "outputs": [],
   "source": []
  },
  {
   "cell_type": "code",
   "execution_count": null,
   "metadata": {},
   "outputs": [],
   "source": []
  },
  {
   "cell_type": "code",
   "execution_count": null,
   "metadata": {},
   "outputs": [],
   "source": []
  },
  {
   "cell_type": "code",
   "execution_count": null,
   "metadata": {},
   "outputs": [],
   "source": []
  },
  {
   "cell_type": "markdown",
   "metadata": {},
   "source": [
    "## File handling in Python\n",
    "\n",
    "File - Document containing information residing in local mechine or permanent storage\n",
    "\n",
    "Types - Text, PDF, CSV, etc\n",
    "\n",
    "File I/O - Channelling I/O Data to files\n",
    "\n",
    "Default I/O channels - Keyboard / Screen\n",
    "\n",
    "change I/O channel to files for reading and writing\n",
    "\n",
    "Read a file - Input from a file\n",
    "Write to a file - out to a file\n",
    "\n",
    "Read /Write a file - Open(file name,mode)\n",
    "\n",
    "\n"
   ]
  },
  {
   "cell_type": "code",
   "execution_count": 1,
   "metadata": {},
   "outputs": [
    {
     "name": "stdout",
     "output_type": "stream",
     "text": [
      "newdata---ulfaLine2\n",
      " Line3\n",
      " Line2\n",
      " Line3Line4,Line5Line4,Line5L\n",
      " i\n",
      " n\n",
      " e\n",
      " 4\n",
      " ,\n",
      " L\n",
      " i\n",
      " n\n",
      " e\n",
      " 5\n",
      " Line4,Line5Line4Line5\n",
      " Line4\n",
      " Line5 "
     ]
    },
    {
     "ename": "TypeError",
     "evalue": "'str' object is not callable",
     "output_type": "error",
     "traceback": [
      "\u001b[1;31m---------------------------------------------------------------------------\u001b[0m",
      "\u001b[1;31mTypeError\u001b[0m                                 Traceback (most recent call last)",
      "\u001b[1;32m<ipython-input-1-4eeb941d3ea0>\u001b[0m in \u001b[0;36m<module>\u001b[1;34m\u001b[0m\n\u001b[0;32m     19\u001b[0m \u001b[1;33m\u001b[0m\u001b[0m\n\u001b[0;32m     20\u001b[0m \u001b[0mprintfiledatalines\u001b[0m\u001b[1;33m(\u001b[0m\u001b[0mfilename\u001b[0m\u001b[1;33m)\u001b[0m\u001b[1;33m\u001b[0m\u001b[1;33m\u001b[0m\u001b[0m\n\u001b[1;32m---> 21\u001b[1;33m \u001b[0mprint\u001b[0m\u001b[1;33m(\u001b[0m\u001b[0mreadfile\u001b[0m\u001b[1;33m(\u001b[0m\u001b[0mfilename\u001b[0m\u001b[1;33m)\u001b[0m\u001b[1;33m)\u001b[0m\u001b[1;33m\u001b[0m\u001b[1;33m\u001b[0m\u001b[0m\n\u001b[0m",
      "\u001b[1;31mTypeError\u001b[0m: 'str' object is not callable"
     ]
    }
   ],
   "source": [
    "# Function to Read a file \n",
    "\n",
    "def readfile(filename):\n",
    "    f= open(filename, 'r')\n",
    "    filedata = f.read()\n",
    "    f.close()\n",
    "    return filedata\n",
    "filename = 'Data Files/data.txt'\n",
    "readfile = readfile(filename)\n",
    "#for line in filedata.split('\\n'):\n",
    "    #print(line)\n",
    "    \n",
    "def printfiledatalines(filename):\n",
    "    f = open(filename,'r')\n",
    "    for line in f:\n",
    "        print(line, end = \" \")\n",
    "    return\n",
    "    \n",
    "\n",
    "printfiledatalines(filename)\n",
    "print(readfile(filename))"
   ]
  },
  {
   "cell_type": "code",
   "execution_count": null,
   "metadata": {},
   "outputs": [],
   "source": [
    "#programiz.com for file I/O handling information"
   ]
  },
  {
   "cell_type": "code",
   "execution_count": 58,
   "metadata": {},
   "outputs": [],
   "source": [
    "# Function to write data into a file\n",
    "\n",
    "def writeintofile(filename, filedata):\n",
    "    with open(filename, 'w') as f:\n",
    "        f.write(filedata)\n",
    "        \n",
    "    return\n",
    "filename = 'Data Files/data.txt'#which is created a file in a folder in jupyter at localmechine called here remotly or imported\n",
    "\n",
    "writeintofile(filename, \"newdata---ulfa\")\n",
    "    "
   ]
  },
  {
   "cell_type": "code",
   "execution_count": null,
   "metadata": {},
   "outputs": [],
   "source": []
  },
  {
   "cell_type": "code",
   "execution_count": 72,
   "metadata": {},
   "outputs": [],
   "source": [
    "# Function to append data to a file\n",
    "\n",
    "def appenddatafile(filename, filedata):\n",
    "    with open(filename, 'a') as f:\n",
    "        for line in filedata:\n",
    "            f.write('\\n'+line)   # line wise data to print or update\n",
    "    return\n",
    "filedata = \"Line4\",\"Line5\"\n",
    "appenddatafile(filename, filedata)"
   ]
  },
  {
   "cell_type": "code",
   "execution_count": 62,
   "metadata": {},
   "outputs": [
    {
     "data": {
      "text/plain": [
       "'\\nLine2\\nLine3'"
      ]
     },
     "execution_count": 62,
     "metadata": {},
     "output_type": "execute_result"
    }
   ],
   "source": [
    "filedata"
   ]
  },
  {
   "cell_type": "code",
   "execution_count": null,
   "metadata": {},
   "outputs": [],
   "source": []
  },
  {
   "cell_type": "code",
   "execution_count": null,
   "metadata": {},
   "outputs": [],
   "source": []
  },
  {
   "cell_type": "code",
   "execution_count": null,
   "metadata": {},
   "outputs": [],
   "source": []
  },
  {
   "cell_type": "code",
   "execution_count": 18,
   "metadata": {},
   "outputs": [
    {
     "data": {
      "text/plain": [
       "True"
      ]
     },
     "execution_count": 18,
     "metadata": {},
     "output_type": "execute_result"
    }
   ],
   "source": []
  },
  {
   "cell_type": "code",
   "execution_count": 10,
   "metadata": {},
   "outputs": [
    {
     "data": {
      "text/plain": [
       "True"
      ]
     },
     "execution_count": 10,
     "metadata": {},
     "output_type": "execute_result"
    }
   ],
   "source": [
    "import re\n",
    "def phonenumbervalidator(number):\n",
    "    pattern ='^[6-9][0-9]{9}$|^[0][6-9][0-9]{9}$|^[+][9][1][6-9][0-9]{9}$'\n",
    "    if re.match(pattern, str(number)):\n",
    "        return True\n",
    "    else:\n",
    "        return False\n",
    "phonenumbervalidator(8919066749)"
   ]
  },
  {
   "cell_type": "code",
   "execution_count": null,
   "metadata": {},
   "outputs": [],
   "source": []
  },
  {
   "cell_type": "code",
   "execution_count": null,
   "metadata": {},
   "outputs": [],
   "source": []
  }
 ],
 "metadata": {
  "kernelspec": {
   "display_name": "Python 3",
   "language": "python",
   "name": "python3"
  },
  "language_info": {
   "codemirror_mode": {
    "name": "ipython",
    "version": 3
   },
   "file_extension": ".py",
   "mimetype": "text/x-python",
   "name": "python",
   "nbconvert_exporter": "python",
   "pygments_lexer": "ipython3",
   "version": "3.7.3"
  }
 },
 "nbformat": 4,
 "nbformat_minor": 2
}
