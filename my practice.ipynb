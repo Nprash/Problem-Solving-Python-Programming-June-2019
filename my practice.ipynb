{
 "cells": [
  {
   "cell_type": "markdown",
   "metadata": {},
   "source": [
    "# Python Data Structure\n",
    " - Lists\n",
    " - Tuples\n",
    " - Dictionaries\n"
   ]
  },
  {
   "cell_type": "markdown",
   "metadata": {},
   "source": [
    "#### Practice on lists\n",
    "\n",
    "- Lists\n",
    " "
   ]
  },
  {
   "cell_type": "code",
   "execution_count": 26,
   "metadata": {},
   "outputs": [
    {
     "data": {
      "text/plain": [
       "[123, 345, 567, 789, 1000]"
      ]
     },
     "execution_count": 26,
     "metadata": {},
     "output_type": "execute_result"
    }
   ],
   "source": [
    "li = [123, 234, 345, 456, 567, 678, 789, 890]\n",
    "li\n",
    "li[1]\n",
    "li[1:]\n",
    "li[::-1] #gives list in reverse order\n",
    "li[::2] # gives the even numbers in the list\n",
    "li[1::2] #gives the odd numbers in the given list\n",
    "li.append(100) #adds an element to thr end of list\n",
    "li\n",
    "li.insert(2, 1000)\n",
    "li\n",
    "li.sort()\n",
    "li[0]\n",
    "li[::2]\n",
    "li[1::2]"
   ]
  },
  {
   "cell_type": "code",
   "execution_count": null,
   "metadata": {},
   "outputs": [],
   "source": []
  }
 ],
 "metadata": {
  "kernelspec": {
   "display_name": "Python 3",
   "language": "python",
   "name": "python3"
  },
  "language_info": {
   "codemirror_mode": {
    "name": "ipython",
    "version": 3
   },
   "file_extension": ".py",
   "mimetype": "text/x-python",
   "name": "python",
   "nbconvert_exporter": "python",
   "pygments_lexer": "ipython3",
   "version": "3.7.3"
  }
 },
 "nbformat": 4,
 "nbformat_minor": 2
}
