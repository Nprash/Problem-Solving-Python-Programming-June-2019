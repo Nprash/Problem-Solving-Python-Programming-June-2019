{
 "cells": [
  {
   "cell_type": "markdown",
   "metadata": {},
   "source": [
    "### Yesterday's Exam problem solution"
   ]
  },
  {
   "cell_type": "code",
   "execution_count": null,
   "metadata": {},
   "outputs": [],
   "source": [
    "# Given a string S, consisting of alphabets and digits\n",
    "# find the frequency of each digit in the given string\n",
    "\n",
    "#Input format : the first line containing a string ,num, which is the given number\n",
    "#contraints : 1<=len(num)<=1000\n",
    "#All the elememts of num are made of english alphabets and digits\n",
    "#Output format : Print ten space-seperated intigersin a single line denoting the frequency of each digit from 0-9\n",
    "# Sample input : a11472o5t6\n",
    "#Explanation : For given input a11472o5t6\n",
    "#\n"
   ]
  },
  {
   "cell_type": "code",
   "execution_count": 4,
   "metadata": {},
   "outputs": [
    {
     "name": "stdout",
     "output_type": "stream",
     "text": [
      "0 4 1 1 1 1 1 0 0 0 "
     ]
    }
   ],
   "source": [
    "# s= 123abc456def111\n",
    "# 0 1 1 1 1 1 1 0 0 0 -> frequency of sorted data\n",
    "# count(1)->4 \n",
    "# s= c\n",
    "# 0 0 0 0 0 0 0 0 0 0\n",
    "\n",
    "#S = 1234567890\n",
    "# 1 1 1 1 1 1 1 1 1 1\n",
    "\n",
    "def uniquedata(allnumbers):\n",
    "    unique=[]\n",
    "    for n in allnumbers:\n",
    "        if n not in unique:\n",
    "            unique.append(n)\n",
    "    return unique\n",
    "\n",
    "def digitfrequency1(s):\n",
    "    allnumbers = []\n",
    "    for i in s:\n",
    "        if i.isdigit():\n",
    "            allnumbers.append(i)\n",
    "    unique=uniquedata(allnumbers)\n",
    "    for i in range(0, 10):\n",
    "        if str(i) not in unique:\n",
    "            print(0, end=' ')\n",
    "        else:\n",
    "            \n",
    "            count=allnumbers.count(str(i))\n",
    "            print(count, end=' ')\n",
    "            \n",
    "digitfrequency1('213abc456def111')"
   ]
  },
  {
   "cell_type": "code",
   "execution_count": null,
   "metadata": {},
   "outputs": [],
   "source": [
    "def digitfrequency2(s):\n",
    "    for i in range(0, 10):\n",
    "        count = s.count(str(i))\n",
    "        "
   ]
  },
  {
   "cell_type": "code",
   "execution_count": null,
   "metadata": {},
   "outputs": [],
   "source": []
  },
  {
   "cell_type": "code",
   "execution_count": null,
   "metadata": {},
   "outputs": [],
   "source": [
    "# contact applications\n",
    "# Add,Search,List,Modify,Delete contacts\n",
    "\n",
    "\n",
    "#Find and replace application\n",
    "#2)# count the total number of occurances of a word in a file\n",
    " - countwordoccurences(filepath, word)\n",
    "- \n",
    "#1)# if word is existing\n",
    " - wordexists(filepath, word)\n",
    "\n",
    "3)#Replace all occurances of word with another word in a file\n",
    "#replaceword(filepath, word)\n",
    "\n",
    "\n",
    "#Marks analysis Applications\n",
    "#Generate Maeks file-for n students\n",
    "#input: Marks text file- each line in text file contains marks of one student\n",
    "#Generates  a report with the following information\n",
    "    #class average\n",
    "    # % of students passed\n",
    "    #% of  failed students\n",
    "    #  %of students with distinction\n",
    "    #Highest marks Frequency\n",
    "    #lowest marks Frequency\n",
    "    \n",
    "### Marks analysis report\n",
    " #Generate marks\n",
    " #   generatemarks(n, lb, ub)\n",
    "#    - Generate the report of the following\n",
    "        -class average - classaverage(filepath)\n",
    "        -# % of students passed--passpercentage(filepath)\n",
    "    #% of  failed students---failpercentage(filepath)\n",
    "    #  %of students with distinction--->distinctionpercentage(filepath)\n",
    "    #Highest marks Frequency-->frequencyhighest(filepath)\n",
    "    #lowest marks Frequency-->frequencylowest(filepath)\n",
    "    #generatereport(filepath)\n",
    "    \n",
    "    \n",
    "    \n",
    "    \n",
    "    ### Contact application\n",
    "    - addcontact(name, phone,email)\n",
    "    - searchcontacts(name)\n",
    "    - listcontacts()\n",
    "    - editcontact(name,newphone,newemail)\n",
    "    - deletecontact(name)\n",
    "    - contactsApp()\n",
    "  "
   ]
  },
  {
   "cell_type": "code",
   "execution_count": null,
   "metadata": {},
   "outputs": [],
   "source": []
  },
  {
   "cell_type": "code",
   "execution_count": 6,
   "metadata": {},
   "outputs": [
    {
     "data": {
      "text/plain": [
       "True"
      ]
     },
     "execution_count": 6,
     "metadata": {},
     "output_type": "execute_result"
    }
   ],
   "source": [
    "# function to check if two strings are anagram\n",
    "#abc-cba->true\n",
    "# abc abc->\n",
    "#aabbcc-ccbbaaa-> false\n",
    "#aabbcc aaabbcc\n",
    "def checkanagram(s1, s2):\n",
    "    if len(s1) != len(s2):\n",
    "        return False\n",
    "    if sorted(s1) ==sorted(s2):\n",
    "        return True\n",
    "    return False\n",
    "checkanagram('abc','bca')\n"
   ]
  },
  {
   "cell_type": "code",
   "execution_count": null,
   "metadata": {},
   "outputs": [],
   "source": [
    "def checkanagram(s1, s2):\n",
    "    if len(s1) != len(s2):\n",
    "        return False\n",
    "    if sorted(s1) ==sorted(s2):\n",
    "        return True\n",
    "    return False\n",
    "def chardeletionsanagrams(s1, s2):\n",
    "    "
   ]
  },
  {
   "cell_type": "code",
   "execution_count": null,
   "metadata": {},
   "outputs": [],
   "source": []
  },
  {
   "cell_type": "code",
   "execution_count": 1,
   "metadata": {},
   "outputs": [],
   "source": [
    "#Generation of marks\n",
    "from random import randint\n",
    "def generatemarks(n,lb,ub):\n",
    "    filepath='Data Files\\marks.txt'\n",
    "    with open(filepath,'w') as f:\n",
    "        for i in range(0,n):\n",
    "            r=randint(lb,ub)\n",
    "            f.write(str(r)+'\\n')\n",
    "    print(n,\" Marks Stored/Generated  in file Sucessfully..!!\")\n",
    "    "
   ]
  },
  {
   "cell_type": "code",
   "execution_count": 2,
   "metadata": {},
   "outputs": [
    {
     "data": {
      "text/plain": [
       "49.564"
      ]
     },
     "execution_count": 2,
     "metadata": {},
     "output_type": "execute_result"
    }
   ],
   "source": [
    "#Class Average - classAverage(filepath)\n",
    "# sum of marks/student count\n",
    "\n",
    "def classAverage(filepath):\n",
    "    sum=0\n",
    "    count=0\n",
    "    with open(filepath,'r') as f:\n",
    "        for i in f:\n",
    "            sum=sum+int(i)\n",
    "            count=count+1\n",
    "    return sum/count\n",
    "    \n",
    "classAverage('Data Files/marks.txt')"
   ]
  },
  {
   "cell_type": "code",
   "execution_count": 3,
   "metadata": {},
   "outputs": [
    {
     "data": {
      "text/plain": [
       "66.0"
      ]
     },
     "execution_count": 3,
     "metadata": {},
     "output_type": "execute_result"
    }
   ],
   "source": [
    "#% Passed - passPercentage(filepath)\n",
    "#(passed count/total student count)*100\n",
    "def passpercentage(filepath):\n",
    "    count=0\n",
    "    mc=0\n",
    "    with open(filepath,'r') as f:\n",
    "        for i in f:\n",
    "            mc=mc+1\n",
    "            if(int(i)>=35):\n",
    "                count=count+1\n",
    "        return (count/mc)*100\n",
    "passpercentage('Data Files/marks.txt')"
   ]
  },
  {
   "cell_type": "code",
   "execution_count": 4,
   "metadata": {},
   "outputs": [
    {
     "data": {
      "text/plain": [
       "34.0"
      ]
     },
     "execution_count": 4,
     "metadata": {},
     "output_type": "execute_result"
    }
   ],
   "source": [
    "#% failed - failedPercentage(filepath)\n",
    "#(failed count/total student count)*100\n",
    "def failedpercentage(filepath):\n",
    "    count=0\n",
    "    mc=0\n",
    "    with open(filepath,'r') as f:\n",
    "        for i in f:\n",
    "            mc=mc+1\n",
    "            if(int(i)<35):\n",
    "                count=count+1\n",
    "        return (count/mc)*100\n",
    "failedpercentage('Data Files/marks.txt')"
   ]
  },
  {
   "cell_type": "code",
   "execution_count": 5,
   "metadata": {},
   "outputs": [
    {
     "name": "stdout",
     "output_type": "stream",
     "text": [
      "34.0\n"
     ]
    }
   ],
   "source": [
    "#% failed - failedPercentage(filepath)\n",
    "#(failed count/total student count)*100\n",
    "def failedpercentage2(filepath):\n",
    "    fcount=100-passpercentage(filepath)\n",
    "    print(fcount)\n",
    "failedpercentage2('Data Files/marks.txt')"
   ]
  },
  {
   "cell_type": "code",
   "execution_count": 6,
   "metadata": {},
   "outputs": [
    {
     "data": {
      "text/plain": [
       "24.2"
      ]
     },
     "execution_count": 6,
     "metadata": {},
     "output_type": "execute_result"
    }
   ],
   "source": [
    "#% Distinction - distinctionPercentage(filepath)\n",
    "# total Distinction count/total students count *100\n",
    "def Distinction(filepath):\n",
    "    count=0\n",
    "    mc=0\n",
    "    with open(filepath,'r') as f:\n",
    "        for i in f:\n",
    "            mc+=1\n",
    "            if(int(i)>=75):\n",
    "                count+=1\n",
    "        return (count/mc)*100\n",
    "Distinction('Data Files/marks.txt')"
   ]
  },
  {
   "cell_type": "code",
   "execution_count": 10,
   "metadata": {},
   "outputs": [
    {
     "data": {
      "text/plain": [
       "2"
      ]
     },
     "execution_count": 10,
     "metadata": {},
     "output_type": "execute_result"
    }
   ],
   "source": [
    "# Frequency of lowest mark - frequencyHighest(filepath)\n",
    "def frequencylowest(filepath):\n",
    "    with open(filepath,'r') as f:\n",
    "        sp=f.read().split()\n",
    "        sp=list(map(int,sp))\n",
    "        return sp.count(min(sp))\n",
    "frequencylowest('Data Files/marks.txt')"
   ]
  },
  {
   "cell_type": "code",
   "execution_count": 7,
   "metadata": {},
   "outputs": [
    {
     "data": {
      "text/plain": [
       "8"
      ]
     },
     "execution_count": 7,
     "metadata": {},
     "output_type": "execute_result"
    }
   ],
   "source": [
    "# Frequency of Highest mark - frequencyHighest(filepath)\n",
    "def frequencyHighest(filepath):\n",
    "    with open(filepath,'r') as f:\n",
    "        sp=f.read().split()\n",
    "        sp=list(map(int,sp))\n",
    "#         print(max(sp))\n",
    "        return sp.count(max(sp))\n",
    "frequencyHighest('Data Files/marks.txt')\n",
    "        \n"
   ]
  },
  {
   "cell_type": "code",
   "execution_count": 11,
   "metadata": {},
   "outputs": [
    {
     "name": "stdout",
     "output_type": "stream",
     "text": [
      "Choose option :\n",
      "1).Generation Marks\n",
      "2).Class Average\n",
      "3).passed Percentage\n",
      "4).Failed Percentage\n",
      "5).Dictintion percentage\n",
      "6).Frequency of highest\n",
      "7).Frequency of lowest\n",
      "1\n",
      "Enter No of Students marks70\n",
      "70  Marks Stored/Generated  in file Sucessfully..!!\n",
      "Choose option :\n",
      "1).Generation Marks\n",
      "2).Class Average\n",
      "3).passed Percentage\n",
      "4).Failed Percentage\n",
      "5).Dictintion percentage\n",
      "6).Frequency of highest\n",
      "7).Frequency of lowest\n",
      "2\n",
      "54.98571428571429\n",
      "Choose option :\n",
      "1).Generation Marks\n",
      "2).Class Average\n",
      "3).passed Percentage\n",
      "4).Failed Percentage\n",
      "5).Dictintion percentage\n",
      "6).Frequency of highest\n",
      "7).Frequency of lowest\n",
      "3\n",
      "72.85714285714285\n",
      "Choose option :\n",
      "1).Generation Marks\n",
      "2).Class Average\n",
      "3).passed Percentage\n",
      "4).Failed Percentage\n",
      "5).Dictintion percentage\n",
      "6).Frequency of highest\n",
      "7).Frequency of lowest\n",
      "4\n",
      "27.142857142857142\n",
      "Choose option :\n",
      "1).Generation Marks\n",
      "2).Class Average\n",
      "3).passed Percentage\n",
      "4).Failed Percentage\n",
      "5).Dictintion percentage\n",
      "6).Frequency of highest\n",
      "7).Frequency of lowest\n",
      "5\n",
      "34.285714285714285\n",
      "Choose option :\n",
      "1).Generation Marks\n",
      "2).Class Average\n",
      "3).passed Percentage\n",
      "4).Failed Percentage\n",
      "5).Dictintion percentage\n",
      "6).Frequency of highest\n",
      "7).Frequency of lowest\n",
      "6\n",
      "1\n",
      "Choose option :\n",
      "1).Generation Marks\n",
      "2).Class Average\n",
      "3).passed Percentage\n",
      "4).Failed Percentage\n",
      "5).Dictintion percentage\n",
      "6).Frequency of highest\n",
      "7).Frequency of lowest\n",
      "7\n",
      "1\n",
      "Choose option :\n",
      "1).Generation Marks\n",
      "2).Class Average\n",
      "3).passed Percentage\n",
      "4).Failed Percentage\n",
      "5).Dictintion percentage\n",
      "6).Frequency of highest\n",
      "7).Frequency of lowest\n",
      "8\n"
     ]
    }
   ],
   "source": [
    "def marksAnalysis(filepath):\n",
    "    while True:\n",
    "        n=int(input(\"Choose option :\\n1).Generation Marks\\n2).Class Average\\n3).passed Percentage\\n4).Failed Percentage\\n5).Dictintion percentage\\n6).Frequency of highest\\n7).Frequency of lowest\\n\"))\n",
    "        if(n==1):\n",
    "            st=int(input(\"Enter No of Students marks\"))\n",
    "            generatemarks(st,1,100)\n",
    "        elif(n==2):\n",
    "            print(classAverage(filepath))\n",
    "        elif(n==3):\n",
    "            print(passpercentage(filepath))\n",
    "        elif(n==4):\n",
    "            print(failedpercentage(filepath))\n",
    "        elif(n==5):\n",
    "            print(Distinction(filepath))\n",
    "        elif(n==6):\n",
    "            print(frequencyHighest(filepath))\n",
    "        elif(n==7):\n",
    "            print(frequencylowest(filepath))\n",
    "        else:\n",
    "            break\n",
    "marksAnalysis('Data Files/marks.txt')"
   ]
  },
  {
   "cell_type": "code",
   "execution_count": null,
   "metadata": {},
   "outputs": [],
   "source": []
  },
  {
   "cell_type": "code",
   "execution_count": null,
   "metadata": {},
   "outputs": [],
   "source": []
  },
  {
   "cell_type": "code",
   "execution_count": null,
   "metadata": {},
   "outputs": [],
   "source": []
  },
  {
   "cell_type": "code",
   "execution_count": null,
   "metadata": {},
   "outputs": [],
   "source": []
  },
  {
   "cell_type": "code",
   "execution_count": null,
   "metadata": {},
   "outputs": [],
   "source": []
  }
 ],
 "metadata": {
  "kernelspec": {
   "display_name": "Python 3",
   "language": "python",
   "name": "python3"
  },
  "language_info": {
   "codemirror_mode": {
    "name": "ipython",
    "version": 3
   },
   "file_extension": ".py",
   "mimetype": "text/x-python",
   "name": "python",
   "nbconvert_exporter": "python",
   "pygments_lexer": "ipython3",
   "version": "3.7.3"
  }
 },
 "nbformat": 4,
 "nbformat_minor": 2
}
