{
 "cells": [
  {
   "cell_type": "markdown",
   "metadata": {},
   "source": [
    "### Problem Solving and Programming in Python-day4\n",
    "\n",
    "\n",
    "#### Date - 14-June 2019\n",
    "\n",
    "###  Day Objectives\n",
    " - Pyjthon Data Structures\n",
    "  - Lists\n",
    "  - Tuples\n",
    "  - Dictionaries\n",
    " - Basic Problem set on Data Structures\n",
    " - Advanced Problem set\n",
    " - Packages and Modules in Python"
   ]
  },
  {
   "cell_type": "code",
   "execution_count": null,
   "metadata": {},
   "outputs": [],
   "source": []
  },
  {
   "cell_type": "markdown",
   "metadata": {},
   "source": [
    "## Python Data Structures\n",
    "\n",
    " - Lists"
   ]
  },
  {
   "cell_type": "code",
   "execution_count": 65,
   "metadata": {},
   "outputs": [
    {
     "ename": "SyntaxError",
     "evalue": "invalid syntax (<ipython-input-65-c9689e8bc2bf>, line 52)",
     "output_type": "error",
     "traceback": [
      "\u001b[1;36m  File \u001b[1;32m\"<ipython-input-65-c9689e8bc2bf>\"\u001b[1;36m, line \u001b[1;32m52\u001b[0m\n\u001b[1;33m    except:\u001b[0m\n\u001b[1;37m         ^\u001b[0m\n\u001b[1;31mSyntaxError\u001b[0m\u001b[1;31m:\u001b[0m invalid syntax\n"
     ]
    }
   ],
   "source": [
    "li = [123, 978, 654]\n",
    "\n",
    "li #Access the entire list\n",
    "\n",
    "li[1] # Access an element with index in a List\n",
    "\n",
    "li[1:] #Access all elements from second value\n",
    "\n",
    "li = li[::-1] #Reversing list elements\n",
    "\n",
    "li\n",
    "\n",
    "li = li[::-1]\n",
    "li\n",
    "\n",
    "li[::2]  #Accessing even index elements\n",
    "li[1::2] #Accessing odd alternative elements: 1(0dd)is starting 2 is adds to the next level element\n",
    "\n",
    "\n",
    "# Lists can be accessed, manipulated in 2 different ways\n",
    "# Direct referencing - [index]\n",
    "# Indirect referencing - through functions\n",
    "\n",
    "\n",
    "li.append(345) #Adding an element to the end of the list\n",
    "\n",
    "li\n",
    "\n",
    "li.insert(1, 234)# Adding an element at a particular index\n",
    "li\n",
    "\n",
    "li.sort() # sort elements in ascending order\n",
    "li\n",
    "\n",
    "li.pop()    #Remove the last element in alist\n",
    "li\n",
    "li.pop(1)#Remove an element at particular index :removes second elemenet\n",
    "li\n",
    "\n",
    "li2 = [234, 456, 789]\n",
    "\n",
    "li.extend(li2)  #merge List 2 into list 1\n",
    "li\n",
    "\n",
    "sum(li)# sum of all elements in the list\n",
    "max(li)#gives maximum no in the list\n",
    "len(li)# number of elements in a list\n",
    "min(li) # minimum number in a list\n",
    "li.index(234)\n",
    "li.index(10000)\n",
    "try:\n",
    "    except:\n",
    "print(-1)"
   ]
  },
  {
   "cell_type": "code",
   "execution_count": 26,
   "metadata": {},
   "outputs": [
    {
     "data": {
      "text/plain": [
       "433.5"
      ]
     },
     "execution_count": 26,
     "metadata": {},
     "output_type": "execute_result"
    }
   ],
   "source": [
    "#average of list elements\n",
    "sum(li)\n",
    "len(li)\n",
    "sum(li)/len(li)"
   ]
  },
  {
   "cell_type": "code",
   "execution_count": 27,
   "metadata": {},
   "outputs": [
    {
     "data": {
      "text/plain": [
       "411.0"
      ]
     },
     "execution_count": 27,
     "metadata": {},
     "output_type": "execute_result"
    }
   ],
   "source": [
    "#Average of all alternate elements\n",
    "sum(li[::2])/len(li[::2])"
   ]
  },
  {
   "cell_type": "code",
   "execution_count": null,
   "metadata": {},
   "outputs": [],
   "source": [
    "# average of all odd alternative elements\n",
    "sum(li[1::2])/len(li[1::2])\n"
   ]
  },
  {
   "cell_type": "code",
   "execution_count": 36,
   "metadata": {},
   "outputs": [
    {
     "name": "stdout",
     "output_type": "stream",
     "text": [
      "[123, 345, 654, 234, 456, 789]\n",
      "654\n"
     ]
    }
   ],
   "source": [
    "# Function identify the second largest element\n",
    "\n",
    "def SecondLargest(n):\n",
    "    n.sort()\n",
    "    return n[len(n)-2]\n",
    "print(li)\n",
    "print(SecondLargest(li))\n",
    "    \n",
    "    "
   ]
  },
  {
   "cell_type": "code",
   "execution_count": null,
   "metadata": {},
   "outputs": [],
   "source": [
    "\n"
   ]
  },
  {
   "cell_type": "code",
   "execution_count": 47,
   "metadata": {},
   "outputs": [
    {
     "data": {
      "text/plain": [
       "[123, 234, 345, 456, 654, 789]"
      ]
     },
     "execution_count": 47,
     "metadata": {},
     "output_type": "execute_result"
    }
   ],
   "source": [
    "# Function to returns the n th largest  # sir prefered\n",
    "def genericLargest(li, n):\n",
    "    li.sort()\n",
    "    return li[-n]\n",
    "genericLargest(li, 5)\n",
    "li"
   ]
  },
  {
   "cell_type": "code",
   "execution_count": 42,
   "metadata": {},
   "outputs": [
    {
     "data": {
      "text/plain": [
       "654"
      ]
     },
     "execution_count": 42,
     "metadata": {},
     "output_type": "execute_result"
    }
   ],
   "source": [
    "# Function identify the second largest element\n",
    "def secondLargest(li):\n",
    "    li.sort()\n",
    "    return li[-2]\n",
    "secondLargest(li)\n"
   ]
  },
  {
   "cell_type": "code",
   "execution_count": 67,
   "metadata": {},
   "outputs": [
    {
     "data": {
      "text/plain": [
       "5"
      ]
     },
     "execution_count": 67,
     "metadata": {},
     "output_type": "execute_result"
    }
   ],
   "source": [
    "# Function to search for Data in a list\n",
    "# Search for the key in the list and return in the index if the key return -1 if key is not found\n",
    "def linearSearch(li, key):\n",
    "    for index in range(0, len(li)):\n",
    "        if li[index] == key:\n",
    "            return index\n",
    "    return -1\n",
    "    \n",
    "linearSearch(li, 234)    \n",
    "\n",
    "def linearSearch2(li, key):\n",
    "    for element in li:\n",
    "        if element == li:\n",
    "            return li.index(element)\n",
    "    return -1\n",
    "linearSearch(li, 234)\n",
    "\n",
    "\n",
    "def linearSearch3(li, key):\n",
    "    if key in li:\n",
    "        return li.index(key)\n",
    "    return -1\n",
    "\n",
    "linearSearch3(li, 789)"
   ]
  },
  {
   "cell_type": "code",
   "execution_count": 71,
   "metadata": {},
   "outputs": [
    {
     "data": {
      "text/plain": [
       "1"
      ]
     },
     "execution_count": 71,
     "metadata": {},
     "output_type": "execute_result"
    }
   ],
   "source": [
    "# Function to count the occurances of a character in  a substring\n",
    "# \"Python Programming\", m  -> 2\n",
    "\n",
    "def countOccurances(s, c):\n",
    "    count = 0\n",
    "    for ch in string:\n",
    "        if ch == c:\n",
    "            count += 1\n",
    "    return count\n",
    "\n",
    "def countCharOccurances2(s, c):\n",
    "    return s.count(c)\n",
    "\n",
    "countCharOccurances2(\"Python Programming\", 'Py')\n"
   ]
  },
  {
   "cell_type": "code",
   "execution_count": null,
   "metadata": {},
   "outputs": [],
   "source": [
    "# function find the number of occurances of a substring\n",
    "# \"abcabcddcba\",      \"ab\" -->  2"
   ]
  },
  {
   "cell_type": "code",
   "execution_count": null,
   "metadata": {},
   "outputs": [],
   "source": []
  },
  {
   "cell_type": "code",
   "execution_count": null,
   "metadata": {},
   "outputs": [],
   "source": []
  },
  {
   "cell_type": "code",
   "execution_count": 75,
   "metadata": {},
   "outputs": [
    {
     "data": {
      "text/plain": [
       "[1, 2, 3, 4, 5, 6]"
      ]
     },
     "execution_count": 75,
     "metadata": {},
     "output_type": "execute_result"
    }
   ],
   "source": [
    "input format:\n",
    "    1. first line contains size of array\n",
    "    2. second line contains array elements\n",
    "    1 2 3 4 5 6 7 \n",
    "    n = int(input())\n",
    "    s=\n",
    "\n",
    "s = \"1 2 3 4 5 6 \"\n",
    "li = s.split()\n",
    "numberlist = []\n",
    "for i in li:\n",
    "    numberlist.append(int(i))\n",
    "numberlist"
   ]
  },
  {
   "cell_type": "code",
   "execution_count": null,
   "metadata": {},
   "outputs": [],
   "source": []
  },
  {
   "cell_type": "code",
   "execution_count": null,
   "metadata": {},
   "outputs": [],
   "source": [
    "n= int(input())\n",
    "def sumSqaresNaturalNumbers(n):\n",
    "    sum = 0\n",
    "    for i in range(1, n+1):\n",
    "        sum = sum + i**2\n",
    "        return sum\n",
    "    return sum\n",
    "\n",
    "\n",
    "sumSqaresNaturalNumbers(n)"
   ]
  },
  {
   "cell_type": "code",
   "execution_count": null,
   "metadata": {},
   "outputs": [],
   "source": []
  },
  {
   "cell_type": "code",
   "execution_count": 1,
   "metadata": {},
   "outputs": [
    {
     "name": "stdout",
     "output_type": "stream",
     "text": [
      "3\n"
     ]
    },
    {
     "data": {
      "text/plain": [
       "1"
      ]
     },
     "execution_count": 1,
     "metadata": {},
     "output_type": "execute_result"
    }
   ],
   "source": [
    "n = int(input())\n",
    "\n",
    "def sumSqaresNaturalNumbers(n):\n",
    "    sum = 0\n",
    "    for i in range(1, n+1):\n",
    "        sum = sum + i**2\n",
    "        return sum\n",
    "    \n",
    "    return sum\n",
    "\n",
    "\n",
    "sumSqaresNaturalNumbers(n)"
   ]
  },
  {
   "cell_type": "markdown",
   "metadata": {},
   "source": [
    "#### string slicing\n",
    "\n"
   ]
  },
  {
   "cell_type": "code",
   "execution_count": null,
   "metadata": {},
   "outputs": [],
   "source": []
  }
 ],
 "metadata": {
  "kernelspec": {
   "display_name": "Python 3",
   "language": "python",
   "name": "python3"
  },
  "language_info": {
   "codemirror_mode": {
    "name": "ipython",
    "version": 3
   },
   "file_extension": ".py",
   "mimetype": "text/x-python",
   "name": "python",
   "nbconvert_exporter": "python",
   "pygments_lexer": "ipython3",
   "version": "3.7.3"
  }
 },
 "nbformat": 4,
 "nbformat_minor": 2
}
