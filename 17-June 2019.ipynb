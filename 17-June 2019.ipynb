{
 "cells": [
  {
   "cell_type": "markdown",
   "metadata": {},
   "source": [
    "Problem: Duration in Hackerearth\n",
    "Input : start time, end time (HH MM) \n",
    "\n",
    "HH-{00,23} - {00 00, 23 59}       <br>\n",
    "MM-{00,59} -                      <br>\n",
    "Output : Time difference in HH MM"
   ]
  },
  {
   "cell_type": "code",
   "execution_count": 2,
   "metadata": {},
   "outputs": [
    {
     "name": "stdout",
     "output_type": "stream",
     "text": [
      "0 30\n"
     ]
    }
   ],
   "source": [
    "#Rahul is a very busy persion he dont wan't to waste his time . \n",
    "#He keeps account of duration of each and every work. \n",
    "#Now he don't even get time to calculate duration of works, \n",
    "#So your job is to count the durations for each work and give it to rahul.\n",
    "\n",
    "#calculate the time difference as total number\n",
    "# convert the total minutes into HH MM\n",
    "s = \"1 44 2 14\"\n",
    "def minutedifference(s):\n",
    "    s = s.split()\n",
    "    sh = int(s[0])\n",
    "    sm = int(s[1])\n",
    "    eh = int(s[2])\n",
    "    em = int(s[3])\n",
    "    startminutes = (sh*60) + sm\n",
    "    endminutes = (eh * 60) +em\n",
    "    return endminutes - startminutes\n",
    "\n",
    "def outputtimeformat(minutes):\n",
    "    #convert minutes to HH MM\n",
    "    hh = minutes//60\n",
    "    mm = minutes % 60\n",
    "    print(hh,mm)\n",
    "    return\n",
    "minutes = minutedifference(s)\n",
    "outputtimeformat(minutes)\n"
   ]
  },
  {
   "cell_type": "code",
   "execution_count": null,
   "metadata": {},
   "outputs": [],
   "source": [
    "# Hackererath Code:\n",
    "def minutedifference(s):\n",
    "    s = s.split()\n",
    "    sh = int(s[0])\n",
    "    sm = int(s[1])\n",
    "    eh = int(s[2])\n",
    "    em = int(s[3])\n",
    "    startminutes = (sh*60) + sm\n",
    "    endminutes = (eh * 60) +em\n",
    "    return endminutes - startminutes\n",
    "\n",
    "def outputtimeformat(minutes):\n",
    "    #convert minutes to HH MM\n",
    "    hh = minutes//60\n",
    "    \n",
    "    mm = minutes % 60\n",
    "    print(hh,mm)\n",
    "n=int(input())\n",
    "for i in range(0,n):\n",
    "    s=input()\n",
    "    minutes = minutedifference(s)\n",
    "    outputtimeformat(minutes)"
   ]
  },
  {
   "cell_type": "code",
   "execution_count": null,
   "metadata": {},
   "outputs": [],
   "source": []
  },
  {
   "cell_type": "code",
   "execution_count": 4,
   "metadata": {},
   "outputs": [
    {
     "ename": "SyntaxError",
     "evalue": "invalid syntax (<ipython-input-4-e6e86b402ecc>, line 9)",
     "output_type": "error",
     "traceback": [
      "\u001b[1;36m  File \u001b[1;32m\"<ipython-input-4-e6e86b402ecc>\"\u001b[1;36m, line \u001b[1;32m9\u001b[0m\n\u001b[1;33m    elif(s[i]>='0' and s[i]<='9'):\u001b[0m\n\u001b[1;37m       ^\u001b[0m\n\u001b[1;31mSyntaxError\u001b[0m\u001b[1;31m:\u001b[0m invalid syntax\n"
     ]
    }
   ],
   "source": [
    "### you are given a string S of Ncharacters ai.Determine the number of digits and the number of english letters in S.\n",
    "\n",
    "def countofdigits(s):\n",
    "    charactercount=0\n",
    "    digitcount=0\n",
    "    for i in s:\n",
    "        if((s[i]>='a' and s[i]<='z') or (s[i]>='A' and s[i]<='Z')):\n",
    "            charactercount=charactercount+1\n",
    "            elif(s[i]>='0' and s[i]<='9'):\n",
    "                digitcount=digitcount+1\n",
    "    print(digitcount)\n",
    "    print(charactercount)\n",
    "                \n",
    "                \n",
    "s=input()\n",
    "countofdigits(s)"
   ]
  },
  {
   "cell_type": "code",
   "execution_count": null,
   "metadata": {},
   "outputs": [],
   "source": []
  },
  {
   "cell_type": "code",
   "execution_count": 11,
   "metadata": {},
   "outputs": [
    {
     "name": "stdout",
     "output_type": "stream",
     "text": [
      "2\n",
      "5\n",
      "NO\n",
      "4\n",
      "NO\n"
     ]
    }
   ],
   "source": [
    "#write a program to determine wethere a number N is equal to the sum of its proper positive divisiors\n",
    "#(excluding the number itself)\n",
    "\n",
    "def factors(n):\n",
    "    sum=0\n",
    "    for i in range(1,n):\n",
    "        if i%n==0:\n",
    "            sum=sum+1\n",
    "        if n==sum:\n",
    "            return \"YES\"\n",
    "        else:\n",
    "            return\"NO\"\n",
    "testcases=int(input())\n",
    "for i in range(testcases):\n",
    "    n=int(input())\n",
    "    print(factors(n))\n",
    "        "
   ]
  },
  {
   "cell_type": "code",
   "execution_count": null,
   "metadata": {},
   "outputs": [],
   "source": [
    "\n"
   ]
  },
  {
   "cell_type": "code",
   "execution_count": null,
   "metadata": {},
   "outputs": [],
   "source": []
  },
  {
   "cell_type": "code",
   "execution_count": 20,
   "metadata": {},
   "outputs": [
    {
     "name": "stdout",
     "output_type": "stream",
     "text": [
      "prime\n"
     ]
    }
   ],
   "source": [
    "# checking prime numbers\n",
    "\n",
    "def prime_number(n):\n",
    "    count=0\n",
    "    for i in range(1,n+1):\n",
    "        if n%i==0:\n",
    "            count=count+1\n",
    "        if count==2:\n",
    "            print(\"prime\")\n",
    "       # else:            #delete else\n",
    "        #    print(\"not a prime\")\n",
    "            \n",
    "prime_number(2)"
   ]
  },
  {
   "cell_type": "code",
   "execution_count": null,
   "metadata": {},
   "outputs": [],
   "source": [
    "#upto prime numbers\n",
    "def prime_number(n1):\n",
    "    for k in range(2,n1+1):\n",
    "        n=k\n",
    "        count=0\n",
    "        for i in range(1,n+1):\n",
    "            if n%i==0:\n",
    "                count=count+1\n",
    "            if count==2\n",
    "            "
   ]
  },
  {
   "cell_type": "code",
   "execution_count": null,
   "metadata": {},
   "outputs": [],
   "source": []
  },
  {
   "cell_type": "code",
   "execution_count": null,
   "metadata": {},
   "outputs": [],
   "source": [
    "## play with number in hackerearth.com\n",
    "\n",
    "n=input().split()\n",
    "n[0],n[1]=int(n[0]),int(n[1])\n",
    "a=input().split()\n",
    "sum=[]\n",
    "for i in range(0,n[0]):\n",
    "    if i==0:\n",
    "        sum.append(int(a[i]))    \n",
    "    else:\n",
    "        sum.append(int(sum[i-1])+int(a[i]))\n",
    "del a\n",
    "#read query\n",
    "for k in range(0,n[1]):\n",
    "    quer=input().split()\n",
    "    i=int(quer[0])\n",
    "    j=int(quer[1])\n",
    "    if i>1:\n",
    "        print((sum[j-1]-sum[i-2])//(j-i+1))\n",
    "    else:\n",
    "        print(sum[j-1]//j-i+1)\n",
    "\n",
    "                 \n",
    "                 \n",
    "                 # sum[1] = # first +second\n",
    "# sum[2] = #sum[1] + 3\n",
    "\n",
    "#1 3 -> sum[2]//i+1\n",
    "# i j -> sum[j]-sum[i-1]//j-i+1\n",
    "\n",
    "#print(sum[n[0]-1])"
   ]
  },
  {
   "cell_type": "markdown",
   "metadata": {},
   "source": [
    "## problem: Special Number\n",
    "\n"
   ]
  },
  {
   "cell_type": "markdown",
   "metadata": {},
   "source": [
    "# Function to determine if a number is special number or not?(3)\n",
    "\n",
    "# function to check if number is prime(1)\n",
    "\n",
    "#Function to determine number of prime factors for a given number(2)\n",
    "\n",
    "\n",
    "\n",
    "# Function to determine if a number is special number or not?(3)\n",
    "def isSpecialNumber(n, p):\n",
    "    if numberofprimefactors(n) >= p:\n",
    "        return True\n",
    "    return False\n",
    "\n",
    "\n",
    "\n",
    "# function to check if number is prime(1)\n",
    "\n",
    "def isPrime(n):\n",
    "    flag = 1\n",
    "    if n ==2:\n",
    "        return True\n",
    "    for i in range(2, n//2 + 1):                           # n//2 is enough to find higher factor\n",
    "        if n % i == 0:\n",
    "            flaf = 0\n",
    "            return False\n",
    "    if flag == 1:\n",
    "        return True\n",
    "        \n",
    "#Function to determine number of prime factors for a given number(2)\n",
    "\n",
    "numberofprimefactors(n):\n",
    "    if isPrime(n):\n",
    "        return 1\n",
    "    count = 0\n",
    "    for i in range(2, n//2 +1):\n",
    "        if isPrime(i) and n % i == 0:\n",
    "            count +=1\n",
    "    return count\n",
    "\n",
    "\n",
    "isSpecialNumber(2, 6)\n",
    "\n",
    "def Solution2():\n",
    "    p = int(input())\n",
    "    t = int(input())\n",
    "    for i in range(0,t):\n",
    "        n = int(input())\n",
    "        if isSpecialNumber(n, p):\n",
    "            print('YES')\n",
    "        else:\n",
    "            print('NO')\n",
    "            \n",
    "            \n",
    "Solution2(2, 6)\n",
    " \n",
    " \n",
    " # gives wrong|\n",
    "  - below is correct"
   ]
  },
  {
   "cell_type": "code",
   "execution_count": 2,
   "metadata": {},
   "outputs": [
    {
     "name": "stdout",
     "output_type": "stream",
     "text": [
      "2\n",
      "3\n",
      "6\n",
      "YES\n",
      "5\n",
      "NO\n",
      "30\n",
      "YES\n"
     ]
    }
   ],
   "source": [
    "\n",
    "# Determine whether SpecialNumber or not\n",
    "def isspecialnumber(n,p):#n=6,p=2\n",
    "    if primefactor(n)>=p:\n",
    "        return True\n",
    "    return False\n",
    "\n",
    "#Function to check if number is prime\n",
    "def isprime(n):\n",
    "    flag=1\n",
    "    if n==2:\n",
    "        return True\n",
    "    for i in range(2,n//2 + 1):\n",
    "        if n%i==0:\n",
    "            flag=0\n",
    "            return False\n",
    "    if flag==1:\n",
    "        return True\n",
    "\n",
    "        \n",
    "#Function to determine number of prime factorfs for a given number\n",
    "def primefactor(n):\n",
    "    if isprime(n):\n",
    "        return 1\n",
    "    count=0\n",
    "    for i in range(2,n//2 + 1):\n",
    "        if isprime(i)and n%i==0:\n",
    "            count+=1\n",
    "    return count\n",
    "isspecialnumber(6,2)\n",
    "\n",
    "\n",
    "def solution():\n",
    "    p=int(input())#2\n",
    "    t=int(input())#3\n",
    "    for i in range(0,t):\n",
    "        n=int(input())#6\n",
    "        if isspecialnumber(n,p):#6,2\n",
    "            print('YES')\n",
    "        else:\n",
    "            print('NO')\n",
    "solution()\n"
   ]
  },
  {
   "cell_type": "code",
   "execution_count": null,
   "metadata": {},
   "outputs": [],
   "source": []
  }
 ],
 "metadata": {
  "kernelspec": {
   "display_name": "Python 3",
   "language": "python",
   "name": "python3"
  },
  "language_info": {
   "codemirror_mode": {
    "name": "ipython",
    "version": 3
   },
   "file_extension": ".py",
   "mimetype": "text/x-python",
   "name": "python",
   "nbconvert_exporter": "python",
   "pygments_lexer": "ipython3",
   "version": "3.7.3"
  }
 },
 "nbformat": 4,
 "nbformat_minor": 2
}
