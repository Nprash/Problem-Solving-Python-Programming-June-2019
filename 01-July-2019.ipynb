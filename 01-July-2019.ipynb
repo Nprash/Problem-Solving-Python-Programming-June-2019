{
 "cells": [
  {
   "cell_type": "markdown",
   "metadata": {},
   "source": [
    "## Functions::They are 2 user definied and pre-definied\n",
    " - passing parameters and return Result"
   ]
  },
  {
   "cell_type": "code",
   "execution_count": 8,
   "metadata": {},
   "outputs": [],
   "source": [
    "def fun_name(arg1,arg2,arg3):\n",
    "    print(fun_name(arg1))"
   ]
  },
  {
   "cell_type": "code",
   "execution_count": 14,
   "metadata": {},
   "outputs": [
    {
     "name": "stdout",
     "output_type": "stream",
     "text": [
      "8\n"
     ]
    }
   ],
   "source": [
    "#x=int(input())\n",
    "#y=int(input())\n",
    "def add(x,y):    # x ,y are parameters\n",
    "    print(x+y)\n",
    "    return\n",
    "add(3,5)        # 3, 5 are arguments "
   ]
  },
  {
   "cell_type": "code",
   "execution_count": 17,
   "metadata": {},
   "outputs": [],
   "source": [
    "def add(x,y):\n",
    "    return x+y\n",
    "#print(add(67,3))\n",
    "rs=add(67,3)"
   ]
  },
  {
   "cell_type": "code",
   "execution_count": 6,
   "metadata": {},
   "outputs": [
    {
     "name": "stdout",
     "output_type": "stream",
     "text": [
      "4\n",
      "True\n"
     ]
    }
   ],
   "source": [
    "n=int(input())\n",
    "\n",
    "def iseven(n):\n",
    "    if n%2==0:\n",
    "        print(True)\n",
    "    else:\n",
    "        print(False)\n",
    "iseven(n)"
   ]
  },
  {
   "cell_type": "code",
   "execution_count": 36,
   "metadata": {},
   "outputs": [
    {
     "name": "stdout",
     "output_type": "stream",
     "text": [
      "4\n",
      "True\n"
     ]
    }
   ],
   "source": [
    "n=int(input())\n",
    "\n",
    "def iseven(n):\n",
    "    if n%2==0:\n",
    "        print(True)\n",
    "    #print(False)\n",
    "iseven(n)"
   ]
  },
  {
   "cell_type": "code",
   "execution_count": null,
   "metadata": {},
   "outputs": [],
   "source": []
  },
  {
   "cell_type": "code",
   "execution_count": 4,
   "metadata": {},
   "outputs": [
    {
     "name": "stdout",
     "output_type": "stream",
     "text": [
      "4\n",
      "2 3 "
     ]
    }
   ],
   "source": [
    "a = int(input())\n",
    "def primenumbers(a):\n",
    "    for i in range(2,a+1):\n",
    "        count=0\n",
    "        for j in range(2, i//2+1):\n",
    "            if (i%j==0):\n",
    "                count+=1\n",
    "                break\n",
    "        if count==0 and i!=1:\n",
    "            print(i,end=\" \")\n",
    "                \n",
    "primenumbers(a)\n",
    "        "
   ]
  },
  {
   "cell_type": "code",
   "execution_count": null,
   "metadata": {},
   "outputs": [],
   "source": [
    "# find out given no is perfect or not?\n",
    "#find out given year is leap year or not?\n",
    "#if given no is even then find out its factorial ?"
   ]
  },
  {
   "cell_type": "code",
   "execution_count": 7,
   "metadata": {},
   "outputs": [
    {
     "name": "stdout",
     "output_type": "stream",
     "text": [
      "10\n",
      "False\n"
     ]
    },
    {
     "data": {
      "text/plain": [
       "'No'"
      ]
     },
     "execution_count": 7,
     "metadata": {},
     "output_type": "execute_result"
    }
   ],
   "source": [
    "#if given no is even then find out its factorial ?\n",
    "n=int(input())\n",
    "def fact(a):\n",
    "    f=1\n",
    "    if iseven(a):    # already defined above\n",
    "        for i in range(1,a+1):\n",
    "            f*=i\n",
    "        print(f)\n",
    "    return \"No\"\n",
    "fact(5)"
   ]
  },
  {
   "cell_type": "code",
   "execution_count": null,
   "metadata": {},
   "outputs": [],
   "source": [
    "n=int(input())\n",
    "def isprime(a):\n",
    "    if n>1:\n",
    "    for i in range(2,n//2):\n",
    "        if n%i==0 and\n"
   ]
  },
  {
   "cell_type": "code",
   "execution_count": 1,
   "metadata": {},
   "outputs": [
    {
     "ename": "IndentationError",
     "evalue": "expected an indented block (<ipython-input-1-d76e113c99b8>, line 10)",
     "output_type": "error",
     "traceback": [
      "\u001b[1;36m  File \u001b[1;32m\"<ipython-input-1-d76e113c99b8>\"\u001b[1;36m, line \u001b[1;32m10\u001b[0m\n\u001b[1;33m    for i in range(2, num//2):\u001b[0m\n\u001b[1;37m      ^\u001b[0m\n\u001b[1;31mIndentationError\u001b[0m\u001b[1;31m:\u001b[0m expected an indented block\n"
     ]
    }
   ],
   "source": []
  },
  {
   "cell_type": "code",
   "execution_count": 2,
   "metadata": {},
   "outputs": [
    {
     "name": "stdout",
     "output_type": "stream",
     "text": [
      "666\n",
      "2 3 5 7 11 13 17 19 23 29 31 37 41 43 47 53 59 61 67 71 73 79 83 89 97 101 103 107 109 113 127 131 137 139 149 151 157 163 167 173 179 181 191 193 197 199 211 223 227 229 233 239 241 251 257 263 269 271 277 281 283 293 307 311 313 317 331 337 347 349 353 359 367 373 379 383 389 397 401 409 419 421 431 433 439 443 449 457 461 463 467 479 487 491 499 503 509 521 523 541 547 557 563 569 571 577 587 593 599 601 607 613 617 619 631 641 643 647 653 659 661 "
     ]
    }
   ],
   "source": [
    "a = int(input())\n",
    "def primenumbers(a):\n",
    "    for i in range(2,a+1):\n",
    "        count=0\n",
    "        for j in range(2, i//2+1):\n",
    "            if (i%j==0):\n",
    "                count+=1\n",
    "                break\n",
    "        if count==0 and i!=1:\n",
    "            print(i,end=\" \")\n",
    "                \n",
    "primenumbers(a)\n",
    "        "
   ]
  },
  {
   "cell_type": "code",
   "execution_count": 4,
   "metadata": {},
   "outputs": [
    {
     "name": "stdout",
     "output_type": "stream",
     "text": [
      "55\n",
      "2 3 5 7 11 13 17 19 23 29 31 37 41 43 47 53 "
     ]
    }
   ],
   "source": [
    "n=int(input())\n",
    "def primenumber(n):\n",
    "    for i in range(2, n+1):\n",
    "        count=0\n",
    "        for j in range(2, i//2+1):\n",
    "            if (i%j==0):\n",
    "                count=count+1\n",
    "                break\n",
    "        if count ==0 and i!=1:\n",
    "            print(i, end=' ')\n",
    "            \n",
    "primenumber(n)\n",
    "        \n",
    "        "
   ]
  },
  {
   "cell_type": "code",
   "execution_count": 6,
   "metadata": {},
   "outputs": [
    {
     "name": "stdout",
     "output_type": "stream",
     "text": [
      "100\n",
      "2 3 5 7 11 13 17 19 23 29 31 37 41 43 47 53 59 61 67 71 73 79 83 89 97 "
     ]
    }
   ],
   "source": [
    "n=int(input())\n",
    "def primenumber(n):\n",
    "    for i in range(2,n+1):\n",
    "        count=0\n",
    "        for j in range(2,i//2+1):\n",
    "            if i%j==0:\n",
    "                count=count+1\n",
    "                break\n",
    "        if count==0 and i!=1:\n",
    "            print(i,end=\" \")\n",
    "            \n",
    "primenumber(n)\n",
    "            "
   ]
  },
  {
   "cell_type": "code",
   "execution_count": 7,
   "metadata": {},
   "outputs": [
    {
     "name": "stdout",
     "output_type": "stream",
     "text": [
      "10\n",
      "2 3 5 7 "
     ]
    }
   ],
   "source": [
    "n=int(input())\n",
    "def primenumber(n):\n",
    "    for i in range(2,n+1):\n",
    "        count=0\n",
    "        for j in range(2,i//2+1):\n",
    "            if i%j==0:\n",
    "                count=count+1\n",
    "                break\n",
    "        if count==0 and i!=1:\n",
    "            print(i,end=' ')\n",
    "            \n",
    "primenumber(n)"
   ]
  },
  {
   "cell_type": "code",
   "execution_count": 5,
   "metadata": {},
   "outputs": [
    {
     "name": "stdout",
     "output_type": "stream",
     "text": [
      "15\n",
      "2 3 5 7 11 13 "
     ]
    }
   ],
   "source": [
    "num=int(input())\n",
    "def primenumber(num):\n",
    "    for i in range(2,num+1):\n",
    "        count=0\n",
    "        for j in range(2,i//2+1):\n",
    "            if i%j==0:\n",
    "                count=count+1\n",
    "                break\n",
    "        if count==0 and i!=1:\n",
    "            print(i,end=\" \")\n",
    "            \n",
    "primenumber(num)"
   ]
  },
  {
   "cell_type": "code",
   "execution_count": null,
   "metadata": {},
   "outputs": [],
   "source": []
  },
  {
   "cell_type": "markdown",
   "metadata": {},
   "source": [
    "### a=int(input(\"Enter number: \"))\n",
    "k=0\n",
    "for i in range(2,a//2+1): #if the number divisible between 2 and n/2 is that,not a prime number\n",
    "    if(a%i==0):\n",
    "        k=k+1\n",
    "if(k<=0):\n",
    "    print(\"Number is prime\")\n",
    "else:\n",
    "    print(\"Number isn't prime\")"
   ]
  },
  {
   "cell_type": "code",
   "execution_count": 47,
   "metadata": {},
   "outputs": [
    {
     "name": "stdout",
     "output_type": "stream",
     "text": [
      "19\n",
      "19 is a prime\n"
     ]
    }
   ],
   "source": [
    "n=int(input())\n",
    "k=0\n",
    "for i in range(2,n//2+1):\n",
    "    if n%i==0:\n",
    "        k=k+1\n",
    "if k<=0:\n",
    "    print(n,'is a prime')\n",
    "else:\n",
    "    print(n,'isnt a prime')\n",
    "    \n"
   ]
  },
  {
   "cell_type": "code",
   "execution_count": null,
   "metadata": {},
   "outputs": [],
   "source": [
    "n=int(input())\n",
    "def primenumber(n):\n",
    "    for i in range(2,n+1):\n",
    "        c=0\n",
    "        for j in range(2, i//2+1):\n",
    "            if j%i==0:\n",
    "                print(n,\"is a prim\")"
   ]
  },
  {
   "cell_type": "code",
   "execution_count": null,
   "metadata": {},
   "outputs": [],
   "source": []
  },
  {
   "cell_type": "code",
   "execution_count": null,
   "metadata": {},
   "outputs": [],
   "source": []
  },
  {
   "cell_type": "code",
   "execution_count": null,
   "metadata": {},
   "outputs": [],
   "source": []
  },
  {
   "cell_type": "code",
   "execution_count": null,
   "metadata": {},
   "outputs": [],
   "source": []
  },
  {
   "cell_type": "code",
   "execution_count": null,
   "metadata": {},
   "outputs": [],
   "source": []
  },
  {
   "cell_type": "code",
   "execution_count": null,
   "metadata": {},
   "outputs": [],
   "source": []
  },
  {
   "cell_type": "code",
   "execution_count": null,
   "metadata": {},
   "outputs": [],
   "source": []
  },
  {
   "cell_type": "code",
   "execution_count": null,
   "metadata": {},
   "outputs": [],
   "source": []
  },
  {
   "cell_type": "code",
   "execution_count": null,
   "metadata": {},
   "outputs": [],
   "source": []
  },
  {
   "cell_type": "code",
   "execution_count": null,
   "metadata": {},
   "outputs": [],
   "source": []
  },
  {
   "cell_type": "code",
   "execution_count": null,
   "metadata": {},
   "outputs": [],
   "source": []
  },
  {
   "cell_type": "code",
   "execution_count": null,
   "metadata": {},
   "outputs": [],
   "source": []
  },
  {
   "cell_type": "code",
   "execution_count": 58,
   "metadata": {},
   "outputs": [
    {
     "data": {
      "text/plain": [
       "0.6"
      ]
     },
     "execution_count": 58,
     "metadata": {},
     "output_type": "execute_result"
    }
   ],
   "source": []
  },
  {
   "cell_type": "code",
   "execution_count": 9,
   "metadata": {},
   "outputs": [
    {
     "ename": "SyntaxError",
     "evalue": "can't assign to function call (<ipython-input-9-b347e1d30d44>, line 9)",
     "output_type": "error",
     "traceback": [
      "\u001b[1;36m  File \u001b[1;32m\"<ipython-input-9-b347e1d30d44>\"\u001b[1;36m, line \u001b[1;32m9\u001b[0m\n\u001b[1;33m    s1(i)=s2(i)\u001b[0m\n\u001b[1;37m    ^\u001b[0m\n\u001b[1;31mSyntaxError\u001b[0m\u001b[1;31m:\u001b[0m can't assign to function call\n"
     ]
    }
   ],
   "source": [
    "t=input()\n",
    "s1=input()\n",
    "s2=input()\n",
    "count=0\n",
    "a=len(s1)\n",
    "b=len(s2)\n",
    "for i in range(t):\n",
    "    if ch in i:\n",
    "       s1(i)=s2(i)\n",
    "       count+=1\n",
    "       print(count)"
   ]
  },
  {
   "cell_type": "code",
   "execution_count": null,
   "metadata": {},
   "outputs": [],
   "source": [
    "#code in python:::::::::::::::::::\n",
    "t=int(input())\n",
    "while(t>0):\n",
    "    a=list(input())\n",
    "    b=list(input())\n",
    "    k=0\n",
    "    l1=len(a)\n",
    "    l2=len(b)\n",
    "    if(l1<=l2):\n",
    "        for i in range(l1):\n",
    "            if a[i] in b:\n",
    "                k=k+1\n",
    "                gh=b.index(a[i])\n",
    "                b[gh]='0'\n",
    "            else:\n",
    "                for j in range(l2):\n",
    "                    if b[j] in a:\n",
    "                        k=k+1\n",
    "                        gh=a.index(b[j])\n",
    "                        a[gh]='0'\n",
    "print(l1+l2-2*k)\n",
    "t-=1"
   ]
  },
  {
   "cell_type": "code",
   "execution_count": null,
   "metadata": {},
   "outputs": [],
   "source": []
  }
 ],
 "metadata": {
  "kernelspec": {
   "display_name": "Python 3",
   "language": "python",
   "name": "python3"
  },
  "language_info": {
   "codemirror_mode": {
    "name": "ipython",
    "version": 3
   },
   "file_extension": ".py",
   "mimetype": "text/x-python",
   "name": "python",
   "nbconvert_exporter": "python",
   "pygments_lexer": "ipython3",
   "version": "3.7.3"
  }
 },
 "nbformat": 4,
 "nbformat_minor": 2
}
